{
  "nbformat": 4,
  "nbformat_minor": 0,
  "metadata": {
    "colab": {
      "provenance": [],
      "include_colab_link": true
    },
    "kernelspec": {
      "name": "python3",
      "display_name": "Python 3"
    },
    "language_info": {
      "name": "python"
    }
  },
  "cells": [
    {
      "cell_type": "markdown",
      "metadata": {
        "id": "view-in-github",
        "colab_type": "text"
      },
      "source": [
        "<a href=\"https://colab.research.google.com/github/isaachuahy/projects/blob/main/APM466_A1.ipynb\" target=\"_parent\"><img src=\"https://colab.research.google.com/assets/colab-badge.svg\" alt=\"Open In Colab\"/></a>"
      ]
    },
    {
      "cell_type": "code",
      "execution_count": 1,
      "metadata": {
        "id": "ZvlnVQWllsOH"
      },
      "outputs": [],
      "source": [
        "import numpy as np\n",
        "import plotly.graph_objects as go"
      ]
    },
    {
      "cell_type": "code",
      "source": [
        "from datetime import datetime\n",
        "from dateutil.relativedelta import relativedelta\n",
        "\n",
        "def calculate_dirty_prices(bonds, settlement_date_str):\n",
        "    \"\"\"\n",
        "    Calculate dirty prices for bonds with dates in M/D/YYYY format.\n",
        "    Args:\n",
        "        bonds (list): List of dictionaries with:\n",
        "            - 'coupon': Annual coupon rate (e.g., 2.5 for 2.5%)\n",
        "            - 'maturity_date': M/D/YYYY string\n",
        "            - 'coupon_payment_start_date': M/D/YYYY string\n",
        "            - 'close_price': Clean price\n",
        "        settlement_date_str (str): Settlement date (M/D/YYYY)\n",
        "    Returns:\n",
        "        List of bonds with added 'dirty_price' field\n",
        "    \"\"\"\n",
        "    # Parse settlement date\n",
        "    settlement_date = datetime.strptime(settlement_date_str, '%m/%d/%Y').date()\n",
        "\n",
        "    for bond in bonds:\n",
        "        # transforming from string objects\n",
        "        coupon_start = datetime.strptime(\n",
        "            bond['coupon_payment_start_date'], '%m/%d/%Y'\n",
        "        ).date()\n",
        "        maturity = datetime.strptime(\n",
        "            bond['maturity_date'], '%m/%d/%Y'\n",
        "        ).date()\n",
        "\n",
        "        # generating all semi-annual coupon dates, naively\n",
        "        coupon_dates = []\n",
        "        current_date = coupon_start\n",
        "        while current_date <= maturity:\n",
        "            coupon_dates.append(current_date)\n",
        "            current_date += relativedelta(months=6)  # add 6 months\n",
        "            if current_date > maturity:\n",
        "                break\n",
        "\n",
        "        # Find last coupon date <= settlement date\n",
        "        last_coupon = None\n",
        "        for date in reversed(coupon_dates):\n",
        "            if date <= settlement_date:\n",
        "                last_coupon = date\n",
        "                break\n",
        "\n",
        "        if not last_coupon:  # no coupons accrued yet\n",
        "            accrued_interest = 0.0\n",
        "        else:\n",
        "            # find next coupon date\n",
        "            next_coupon_idx = coupon_dates.index(last_coupon) + 1\n",
        "            next_coupon = coupon_dates[next_coupon_idx] if next_coupon_idx < len(coupon_dates) else maturity\n",
        "\n",
        "            # days since last coupon & total days in coupon period\n",
        "            accrued_days = (settlement_date - last_coupon).days\n",
        "            total_days = 182.5 # Canadian bond convention based on document\n",
        "\n",
        "            # calculate accrued interest for dirty price (semi-annual coupons)\n",
        "            semi_annual_coupon = (bond['coupon'] / 100) / 2  # convert to decimal, calculate semi-annual\n",
        "            accrued_interest = semi_annual_coupon * (accrued_days / total_days)\n",
        "\n",
        "        # dirty price = clean price + accrued interest (per $100 face value)\n",
        "        bond['dirty_price'] = bond['close_price'] + accrued_interest\n",
        "\n",
        "    return bonds\n",
        "\n",
        "jan6bonds = [\n",
        "    {\n",
        "        'coupon': 3.5,\n",
        "        'maturity_date': '8/1/2025',\n",
        "        'coupon_payment_start_date': '8/1/2023',\n",
        "        'close_price': 100.26\n",
        "    },\n",
        "    {\n",
        "        'coupon': 4.5,\n",
        "        'maturity_date': '2/1/2026',\n",
        "        'coupon_payment_start_date': '2/1/2024',\n",
        "        'close_price': 101.58\n",
        "    },\n",
        "    {\n",
        "        'coupon': 4.0,\n",
        "        'maturity_date': '8/3/2026',\n",
        "        'coupon_payment_start_date': '8/1/2024',\n",
        "        'close_price': 101.54\n",
        "    },\n",
        "    {\n",
        "        'coupon': 3.0,\n",
        "        'maturity_date': '2/1/2027',\n",
        "        'coupon_payment_start_date': '2/1/2025',\n",
        "        'close_price': 100.11\n",
        "    },\n",
        "    {\n",
        "        'coupon': 3.25,\n",
        "        'maturity_date': '8/24/2027',\n",
        "        'coupon_payment_start_date': '2/24/2023',\n",
        "        'close_price': 101.02\n",
        "    },\n",
        "    {\n",
        "        'coupon': 3.5,\n",
        "        'maturity_date': '3/1/2028',\n",
        "        'coupon_payment_start_date': '3/1/2023',\n",
        "        'close_price': 101.8\n",
        "    },\n",
        "    {\n",
        "        'coupon': 3.25,\n",
        "        'maturity_date': '9/1/2028',\n",
        "        'coupon_payment_start_date': '9/1/2023',\n",
        "        'close_price': 101.1\n",
        "    },\n",
        "    {\n",
        "        'coupon': 4.0,\n",
        "        'maturity_date': '3/1/2029',\n",
        "        'coupon_payment_start_date': '3/1/2024',\n",
        "        'close_price': 104.07\n",
        "    },\n",
        "    {\n",
        "        'coupon': 3.5,\n",
        "        'maturity_date': '9/1/2029',\n",
        "        'coupon_payment_start_date': '9/1/2024',\n",
        "        'close_price': 102.22\n",
        "    },\n",
        "    {\n",
        "        'coupon': 2.75,\n",
        "        'maturity_date': '3/1/2030',\n",
        "        'coupon_payment_start_date': '3/1/2025',\n",
        "        'close_price': 98.81\n",
        "    }\n",
        "\n",
        "]\n",
        "\n",
        "settlement_date_str = '1/6/2025'\n",
        "\n",
        "updated_bonds = calculate_dirty_prices(jan6bonds, settlement_date_str)\n",
        "\n",
        "# for bond in updated_bonds:\n",
        "#     print(f\"Coupon: {bond['coupon']}% | Clean: {bond['close_price']:.2f} | \" +\n",
        "#           f\"Dirty: {bond['dirty_price']:.4f}\")"
      ],
      "metadata": {
        "id": "W9uu9KrX3vUi"
      },
      "execution_count": 31,
      "outputs": []
    },
    {
      "cell_type": "code",
      "source": [
        "\n",
        "\n",
        "from datetime import date\n",
        "from dateutil.relativedelta import relativedelta\n",
        "\n",
        "def year_diff_actual(start_date_str, end_date_str):\n",
        "    start = datetime.strptime(start_date_str, \"%m/%d/%Y\").date()\n",
        "    end = datetime.strptime(end_date_str, \"%m/%d/%Y\").date()\n",
        "\n",
        "    total_days = (end - start).days\n",
        "    if total_days == 0:\n",
        "        return 0.0\n",
        "\n",
        "    # Iterate year-by-year to handle leap years\n",
        "    years = 0.0\n",
        "    current = start\n",
        "    while current < end:\n",
        "        next_year = date(current.year + 1, current.month, current.day)\n",
        "        if next_year > end:\n",
        "            days_in_year = 366 if current.year % 4 == 0 else 365  # leap year check\n",
        "            days_remaining = (end - current).days\n",
        "            years += days_remaining / days_in_year\n",
        "            break\n",
        "        else:\n",
        "            years += 1.0\n",
        "            current = next_year\n",
        "    return years"
      ],
      "metadata": {
        "id": "obyptpca_5P7"
      },
      "execution_count": 32,
      "outputs": []
    },
    {
      "cell_type": "code",
      "source": [
        "# templatebonds = []\n",
        "# i=1\n",
        "# for bond in updated_bonds:\n",
        "#     maturity = datetime.strptime(bond['maturity_date'], '%m/%d/%Y').date()\n",
        "#     settlement_date = datetime.strptime(settlement_date_str, '%m/%d/%Y').date()\n",
        "#     templatebonds.append(tuple((bond['dirty_price'],\n",
        "#                                bond['coupon'],\n",
        "#                                0.5*i)))\n",
        "#     i += 1\n",
        "# templatebonds"
      ],
      "metadata": {
        "id": "kehet3GzQSig"
      },
      "execution_count": 33,
      "outputs": []
    },
    {
      "cell_type": "code",
      "source": [
        "templatebonds = []\n",
        "\n",
        "for bond in updated_bonds:\n",
        "    maturity = datetime.strptime(bond['maturity_date'], '%m/%d/%Y').date()\n",
        "    settlement_date = datetime.strptime(settlement_date_str, '%m/%d/%Y').date()\n",
        "    templatebonds.append(tuple((bond['dirty_price'],\n",
        "                               bond['coupon'],\n",
        "                               year_diff_actual(settlement_date_str, bond['maturity_date']))))\n",
        "templatebonds\n",
        "\n",
        "cleanedjan6bonds = templatebonds.copy()"
      ],
      "metadata": {
        "id": "X7Co3STE-u_z"
      },
      "execution_count": 34,
      "outputs": []
    },
    {
      "cell_type": "markdown",
      "source": [
        "## Template Bootstrap Function"
      ],
      "metadata": {
        "id": "T0pL-u13mDL_"
      }
    },
    {
      "cell_type": "code",
      "source": [
        "# def bootstrap_yield_curve(bonds):\n",
        "#     spot_rates = np.zeros(len(bonds))\n",
        "\n",
        "#     for i, (price, coupon_rate, maturity) in enumerate(sorted(bonds, key=lambda x: x[2])):\n",
        "#         cash_flows = np.array([coupon_rate] * int(maturity - 1) + [100 + coupon_rate])\n",
        "#         time_periods = np.arange(1, maturity + 1)\n",
        "#         # Use previously calculated spot rates for discounted cash flows\n",
        "#         if i == 0:\n",
        "#             discounted_cash_flows = cash_flows / (1 + spot_rates[i])**time_periods\n",
        "#         else:\n",
        "#             discounted_cash_flows = [cf / (1 + spot_rates[j])**time_periods[j] for j, cf in enumerate(cash_flows)]\n",
        "#             discounted_cash_flows = np.sum(discounted_cash_flows)\n",
        "\n",
        "#         residual = price - discounted_cash_flows\n",
        "#         if residual <= 0:\n",
        "#             # Handle cases where residual is too low\n",
        "#             print(f\"Warning: Residual for bond with maturity {maturity} is too low. Adjusting spot rate calculation.\")\n",
        "#             spot_rate = spot_rates[i-1]  # Use previous spot rate as an approximation\n",
        "#         else:\n",
        "#             spot_rate = ((100 / residual)**(1 / maturity)) - 1\n",
        "#         spot_rates[i] = spot_rate\n",
        "\n",
        "#     return spot_rates"
      ],
      "metadata": {
        "id": "cs-zpgT9lxpk"
      },
      "execution_count": 35,
      "outputs": []
    },
    {
      "cell_type": "markdown",
      "source": [
        "## Example Bond"
      ],
      "metadata": {
        "id": "FO0VwE4fmBIa"
      }
    },
    {
      "cell_type": "code",
      "source": [
        "# bonds = [\n",
        "#     (195, 1, 1),\n",
        "#     (190, 1.5, 2),\n",
        "#     (188, 2, 3)\n",
        "# ]"
      ],
      "metadata": {
        "id": "lQvCb8KdlzR5"
      },
      "execution_count": 36,
      "outputs": []
    },
    {
      "cell_type": "markdown",
      "source": [
        "## Bootstrapping spot rates"
      ],
      "metadata": {
        "id": "NtD1JPsunzK4"
      }
    },
    {
      "cell_type": "code",
      "source": [
        "sorted_bonds = sorted(templatebonds, key=lambda x: x[2])\n",
        "sorted_bonds"
      ],
      "metadata": {
        "colab": {
          "base_uri": "https://localhost:8080/"
        },
        "id": "nJiVKJKJNGiM",
        "outputId": "4255f359-9691-44a3-ceb9-7a2cc4c2c5fe"
      },
      "execution_count": 37,
      "outputs": [
        {
          "output_type": "execute_result",
          "data": {
            "text/plain": [
              "[(100.27515068493152, 3.5, 0.5671232876712329),\n",
              " (101.5994794520548, 4.5, 1.0712328767123287),\n",
              " (101.55731506849315, 4.0, 1.5726027397260274),\n",
              " (100.11, 3.0, 2.0712328767123287),\n",
              " (101.03202054794521, 3.25, 2.6301369863013697),\n",
              " (101.81217808219178, 3.5, 3.150273224043716),\n",
              " (101.11130821917807, 3.25, 3.6530054644808745),\n",
              " (104.08391780821917, 4.0, 4.147945205479452),\n",
              " (102.23217808219178, 3.5, 4.652054794520548),\n",
              " (98.81, 2.75, 5.147945205479452)]"
            ]
          },
          "metadata": {},
          "execution_count": 37
        }
      ]
    },
    {
      "cell_type": "code",
      "source": [
        "import math\n",
        "\n",
        "def bootstrap_yield_curve(bonds, face_value=100.0):\n",
        "    \"\"\"\n",
        "    Bootstraps (annualized) spot rates from a list of bonds.\n",
        "\n",
        "    Returns -\n",
        "    spot_rates : dict\n",
        "        Maps each maturity time T (in years) to the annualized spot rate r(T).\n",
        "    discount_factors : dict\n",
        "        Maps each maturity time T (in years) to the discount factor D(T).\n",
        "        This simplifies the coupon calculations\n",
        "    \"\"\"\n",
        "\n",
        "\n",
        "    # Sort bonds by ascending maturity\n",
        "    bonds_sorted = sorted(bonds, key=lambda x: x[2])\n",
        "\n",
        "    discount_factors = {}  # time -> discount factor D(T)\n",
        "    spot_rates = {}        # time -> annualized spot rate r(T)\n",
        "\n",
        "    freq = 2 # 2 coupon payments per year\n",
        "\n",
        "    # Maintain a global list of coupon times for which we have solved discount factors.\n",
        "    # This assumes we get coupon payments from each prior solved time.\n",
        "    solved_times = []\n",
        "\n",
        "    for (price, coupon_rate, maturity) in bonds_sorted:\n",
        "\n",
        "\n",
        "        # each coupon payment in dollars:\n",
        "        coupon_payment = (coupon_rate * face_value) / freq\n",
        "\n",
        "        # use every coupon date we have solved that is less than the current bond's maturity,\n",
        "        # then add the current bond's maturity as the final coupon date.\n",
        "        coupon_schedule = [t for t in solved_times if t < maturity]\n",
        "        coupon_schedule.append(maturity)\n",
        "        coupon_schedule = sorted(coupon_schedule)\n",
        "\n",
        "        # Now we bootstrap to solve the spot rates iteratively\n",
        "\n",
        "        known_value = 0.0\n",
        "        unknown_time = None\n",
        "        unknown_payment = 0.0\n",
        "\n",
        "        for i, t in enumerate(coupon_schedule):\n",
        "            if i < len(coupon_schedule) - 1:\n",
        "                # For a coupon date that is already solved, its cash flow is coupon_payment.\n",
        "                # if t not in discount_factors:\n",
        "                #     raise ValueError(f\"Expected discount factor for time {t} but it was not found.\")\n",
        "                # iteratively add coupon payments\n",
        "                known_value += coupon_payment * discount_factors[t]\n",
        "            else:\n",
        "                # The final coupon date (which should be the current bond's maturity) has cash flow:\n",
        "                # coupon_payment + face_value\n",
        "                unknown_time = t\n",
        "                unknown_payment = coupon_payment + face_value\n",
        "\n",
        "        # discount factor\n",
        "        D_unknown = (price - known_value) / unknown_payment\n",
        "        print(D_unknown)\n",
        "\n",
        "        # If the computed discount factor is not in (0,1),\n",
        "        # then we just take the previous solved discount factor,\n",
        "        # similar to what was done in template\n",
        "        if D_unknown <= 0 or D_unknown >= 1:\n",
        "            if solved_times:\n",
        "                previous_D = discount_factors[solved_times[-1]]\n",
        "                print(f\"Warning: Computed D({unknown_time}) = {D_unknown:.6f} is not in (0,1); \"+\n",
        "                      f\"using previous discount factor D({solved_times[-1]}) = {previous_D:.6f} instead.\"+\n",
        "                      \"Similar to original implementation of bootstrapping\")\n",
        "                D_unknown = previous_D\n",
        "\n",
        "        discount_factors[unknown_time] = D_unknown\n",
        "        solved_times.append(unknown_time)\n",
        "        solved_times = sorted(set(solved_times))\n",
        "\n",
        "        r_spot = freq * ((1.0 / D_unknown) ** (1.0 / (freq * unknown_time)) - 1.0)\n",
        "        # print(r_spot)\n",
        "        # print(\"\\n\")\n",
        "        spot_rates[unknown_time] = r_spot\n",
        "\n",
        "    return spot_rates\n"
      ],
      "metadata": {
        "id": "gMK3d3V-JIC6"
      },
      "execution_count": 38,
      "outputs": []
    },
    {
      "cell_type": "code",
      "source": [
        "# Collate spot rates for graphing\n",
        "spot_rates_by_day = {}\n",
        "spot_rates_by_day['1/6/2025'] = bootstrap_yield_curve(templatebonds)"
      ],
      "metadata": {
        "colab": {
          "base_uri": "https://localhost:8080/"
        },
        "id": "NURaYL4QoBue",
        "outputId": "73b4ae01-c762-482c-94fb-fe5e48c9d0c7"
      },
      "execution_count": 39,
      "outputs": [
        {
          "output_type": "stream",
          "name": "stdout",
          "text": [
            "0.36463691158156913\n",
            "0.06017284414215921\n",
            "0.05531787974582495\n",
            "0.11236341871826801\n",
            "0.018103711399711366\n",
            "-0.018334203256823427\n",
            "Warning: Computed D(3.150273224043716) = -0.018334 is not in (0,1); using previous discount factor D(2.6301369863013697) = 0.018104 instead.Similar to original implementation of bootstrapping\n",
            "-0.0040083592047584545\n",
            "Warning: Computed D(3.6530054644808745) = -0.004008 is not in (0,1); using previous discount factor D(3.150273224043716) = 0.018104 instead.Similar to original implementation of bootstrapping\n",
            "-0.08425506623057302\n",
            "Warning: Computed D(4.147945205479452) = -0.084255 is not in (0,1); using previous discount factor D(3.6530054644808745) = 0.018104 instead.Similar to original implementation of bootstrapping\n",
            "-0.05136856138354512\n",
            "Warning: Computed D(4.652054794520548) = -0.051369 is not in (0,1); using previous discount factor D(4.147945205479452) = 0.018104 instead.Similar to original implementation of bootstrapping\n",
            "0.0206154882605181\n"
          ]
        }
      ]
    },
    {
      "cell_type": "code",
      "source": [
        "#rows 7, 11, 16, 19, 23, 25, 27, 28, 31, 33\n",
        "\n",
        "settlement_date_str = '1/7/2025'\n",
        "jan7bonds = [\n",
        "    {'coupon': 3.5, 'maturity_date': '8/1/2025',\n",
        "     'coupon_payment_start_date': '8/1/2023', 'close_price': 100.25},\n",
        "    {'coupon': 4.5, 'maturity_date': '2/1/2026',\n",
        "     'coupon_payment_start_date': '2/1/2024', 'close_price': 101.58},\n",
        "    {'coupon': 4.0, 'maturity_date': '8/3/2026',\n",
        "     'coupon_payment_start_date': '8/1/2024', 'close_price': 101.57},\n",
        "    {'coupon': 3.0, 'maturity_date': '2/1/2027',\n",
        "     'coupon_payment_start_date': '2/1/2025', 'close_price': 100.14},\n",
        "    {'coupon': 3.25, 'maturity_date': '8/24/2027',\n",
        "     'coupon_payment_start_date': '2/24/2023', 'close_price': 101.04},\n",
        "    {'coupon': 3.5, 'maturity_date': '3/1/2028',\n",
        "     'coupon_payment_start_date': '3/1/2023','close_price': 101.82},\n",
        "    {'coupon': 3.25, 'maturity_date': '9/1/2028',\n",
        "     'coupon_payment_start_date': '9/1/2023', 'close_price': 101.14},\n",
        "    {'coupon': 4.0, 'maturity_date': '3/1/2029',\n",
        "     'coupon_payment_start_date': '3/1/2024', 'close_price': 104.01},\n",
        "    {'coupon': 3.5, 'maturity_date': '9/1/2029',\n",
        "     'coupon_payment_start_date': '9/1/2024', 'close_price': 102.14},\n",
        "    {'coupon': 2.75, 'maturity_date': '3/1/2030',\n",
        "     'coupon_payment_start_date': '3/1/2025', 'close_price': 98.6}]\n",
        "\n",
        "updated_bonds = calculate_dirty_prices(jan7bonds, settlement_date_str)\n",
        "\n",
        "templatebonds = []\n",
        "for bond in updated_bonds:\n",
        "    maturity = datetime.strptime(bond['maturity_date'], '%m/%d/%Y').date()\n",
        "    settlement_date = datetime.strptime(settlement_date_str, '%m/%d/%Y').date()\n",
        "    templatebonds.append(tuple((bond['dirty_price'],\n",
        "                               bond['coupon'],\n",
        "                               year_diff_actual(settlement_date_str, bond['maturity_date']))))\n",
        "cleanedjan7bonds = templatebonds.copy()\n",
        "spot_rates_by_day[settlement_date_str] = bootstrap_yield_curve(cleanedjan7bonds)\n"
      ],
      "metadata": {
        "id": "dLPLRK1goQZc",
        "colab": {
          "base_uri": "https://localhost:8080/"
        },
        "outputId": "88b03035-5750-4ae0-d79a-549fdd8f8be0"
      },
      "execution_count": 40,
      "outputs": [
        {
          "output_type": "stream",
          "name": "stdout",
          "text": [
            "0.3646008966376089\n",
            "0.06019815691158158\n",
            "0.05542537982565383\n",
            "0.11242533997509344\n",
            "0.01808198636067134\n",
            "-0.01834830537001401\n",
            "Warning: Computed D(3.1475409836065573) = -0.018348 is not in (0,1); using previous discount factor D(2.6273972602739724) = 0.018082 instead.Similar to original implementation of bootstrapping\n",
            "-0.003926996100225162\n",
            "Warning: Computed D(3.650273224043716) = -0.003927 is not in (0,1); using previous discount factor D(3.1475409836065573) = 0.018082 instead.Similar to original implementation of bootstrapping\n",
            "-0.08451706363043353\n",
            "Warning: Computed D(4.145205479452055) = -0.084517 is not in (0,1); using previous discount factor D(3.650273224043716) = 0.018082 instead.Similar to original implementation of bootstrapping\n",
            "-0.0517048247858411\n",
            "Warning: Computed D(4.64931506849315) = -0.051705 is not in (0,1); using previous discount factor D(4.145205479452055) = 0.018082 instead.Similar to original implementation of bootstrapping\n",
            "0.01970227596388195\n"
          ]
        }
      ]
    },
    {
      "cell_type": "code",
      "source": [
        "#rows 7, 11, 16, 19, 23, 25, 27, 28, 31, 33\n",
        "\n",
        "settlement_date_str = '1/8/2025'\n",
        "jan8bonds = [\n",
        "    {'coupon': 3.5, 'maturity_date': '8/1/2025',\n",
        "     'coupon_payment_start_date': '8/1/2023', 'close_price': 100.24},\n",
        "    {'coupon': 4.5, 'maturity_date': '2/1/2026',\n",
        "     'coupon_payment_start_date': '2/1/2024', 'close_price': 101.56},\n",
        "    {'coupon': 4.0, 'maturity_date': '8/3/2026',\n",
        "     'coupon_payment_start_date': '8/1/2024', 'close_price': 101.53},\n",
        "    {'coupon': 3.0, 'maturity_date': '2/1/2027',\n",
        "     'coupon_payment_start_date': '2/1/2025', 'close_price': 100.08},\n",
        "    {'coupon': 3.25, 'maturity_date': '8/24/2027',\n",
        "     'coupon_payment_start_date': '2/24/2023', 'close_price': 100.94},\n",
        "    {'coupon': 3.5, 'maturity_date': '3/1/2028',\n",
        "     'coupon_payment_start_date': '3/1/2023','close_price': 101.7},\n",
        "    {'coupon': 3.25, 'maturity_date': '9/1/2028',\n",
        "     'coupon_payment_start_date': '9/1/2023', 'close_price': 100.99},\n",
        "    {'coupon': 4.0, 'maturity_date': '3/1/2029',\n",
        "     'coupon_payment_start_date': '3/1/2024', 'close_price': 103.9},\n",
        "    {'coupon': 3.5, 'maturity_date': '9/1/2029',\n",
        "     'coupon_payment_start_date': '9/1/2024', 'close_price': 102.04},\n",
        "    {'coupon': 2.75, 'maturity_date': '3/1/2030',\n",
        "     'coupon_payment_start_date': '3/1/2025', 'close_price': 98.53}]\n",
        "\n",
        "updated_bonds = calculate_dirty_prices(jan8bonds, settlement_date_str)\n",
        "\n",
        "templatebonds = []\n",
        "for bond in updated_bonds:\n",
        "    maturity = datetime.strptime(bond['maturity_date'], '%m/%d/%Y').date()\n",
        "    settlement_date = datetime.strptime(settlement_date_str, '%m/%d/%Y').date()\n",
        "    templatebonds.append(tuple((bond['dirty_price'],\n",
        "                               bond['coupon'],\n",
        "                               year_diff_actual(settlement_date_str, bond['maturity_date']))))\n",
        "cleanedjan8bonds = templatebonds.copy()\n",
        "spot_rates_by_day[settlement_date_str] = bootstrap_yield_curve(cleanedjan8bonds)\n"
      ],
      "metadata": {
        "colab": {
          "base_uri": "https://localhost:8080/"
        },
        "id": "dfM2SejXsj4o",
        "outputId": "5c25f1f5-3821-4928-f225-ea6d3d52b151"
      },
      "execution_count": 41,
      "outputs": [
        {
          "output_type": "stream",
          "name": "stdout",
          "text": [
            "0.36456488169364876\n",
            "0.060161931219465496\n",
            "0.05534057221317497\n",
            "0.11227956892422646\n",
            "0.017888832750202633\n",
            "-0.018468701189498234\n",
            "Warning: Computed D(3.1448087431693987) = -0.018469 is not in (0,1); using previous discount factor D(2.6246575342465754) = 0.017889 instead.Similar to original implementation of bootstrapping\n",
            "-0.004071483335827787\n",
            "Warning: Computed D(3.6475409836065573) = -0.004071 is not in (0,1); using previous discount factor D(3.1448087431693987) = 0.017889 instead.Similar to original implementation of bootstrapping\n",
            "-0.08429517824641114\n",
            "Warning: Computed D(4.142465753424657) = -0.084295 is not in (0,1); using previous discount factor D(3.6475409836065573) = 0.017889 instead.Similar to original implementation of bootstrapping\n",
            "-0.05138374553079421\n",
            "Warning: Computed D(4.646575342465754) = -0.051384 is not in (0,1); using previous discount factor D(4.142465753424657) = 0.017889 instead.Similar to original implementation of bootstrapping\n",
            "0.02014198443069368\n"
          ]
        }
      ]
    },
    {
      "cell_type": "code",
      "source": [
        "#rows 7, 11, 16, 19, 23, 25, 27, 28, 31, 33\n",
        "\n",
        "settlement_date_str = '1/9/2025'\n",
        "jan9bonds = [\n",
        "    {'coupon': 3.5, 'maturity_date': '8/1/2025',\n",
        "     'coupon_payment_start_date': '8/1/2023', 'close_price': 100.25},\n",
        "    {'coupon': 4.5, 'maturity_date': '2/1/2026',\n",
        "     'coupon_payment_start_date': '2/1/2024', 'close_price': 101.58},\n",
        "    {'coupon': 4.0, 'maturity_date': '8/3/2026',\n",
        "     'coupon_payment_start_date': '8/1/2024', 'close_price': 101.55},\n",
        "    {'coupon': 3.0, 'maturity_date': '2/1/2027',\n",
        "     'coupon_payment_start_date': '2/1/2025', 'close_price': 100.1},\n",
        "    {'coupon': 3.25, 'maturity_date': '8/24/2027',\n",
        "     'coupon_payment_start_date': '2/24/2023', 'close_price': 101.02},\n",
        "    {'coupon': 3.5, 'maturity_date': '3/1/2028',\n",
        "     'coupon_payment_start_date': '3/1/2023','close_price': 101.72},\n",
        "    {'coupon': 3.25, 'maturity_date': '9/1/2028',\n",
        "     'coupon_payment_start_date': '9/1/2023', 'close_price': 100.94},\n",
        "    {'coupon': 4.0, 'maturity_date': '3/1/2029',\n",
        "     'coupon_payment_start_date': '3/1/2024', 'close_price': 103.87},\n",
        "    {'coupon': 3.5, 'maturity_date': '9/1/2029',\n",
        "     'coupon_payment_start_date': '9/1/2024', 'close_price': 101.98},\n",
        "    {'coupon': 2.75, 'maturity_date': '3/1/2030',\n",
        "     'coupon_payment_start_date': '3/1/2025', 'close_price': 98.54}]\n",
        "\n",
        "updated_bonds = calculate_dirty_prices(jan9bonds, settlement_date_str)\n",
        "\n",
        "templatebonds = []\n",
        "for bond in updated_bonds:\n",
        "    maturity = datetime.strptime(bond['maturity_date'], '%m/%d/%Y').date()\n",
        "    settlement_date = datetime.strptime(settlement_date_str, '%m/%d/%Y').date()\n",
        "    templatebonds.append(tuple((bond['dirty_price'],\n",
        "                               bond['coupon'],\n",
        "                               year_diff_actual(settlement_date_str, bond['maturity_date']))))\n",
        "cleanedjan9bonds = templatebonds.copy()\n",
        "\n",
        "spot_rates_by_day[settlement_date_str] = bootstrap_yield_curve(cleanedjan9bonds)\n"
      ],
      "metadata": {
        "colab": {
          "base_uri": "https://localhost:8080/"
        },
        "id": "1zOth1TvvrZ_",
        "outputId": "151077d5-b8a7-494e-a5e0-54bb9903d7ed"
      },
      "execution_count": 42,
      "outputs": [
        {
          "output_type": "stream",
          "name": "stdout",
          "text": [
            "0.36460159402241593\n",
            "0.06019843280007666\n",
            "0.05535879490372641\n",
            "0.11230470696426857\n",
            "0.018121768605823426\n",
            "-0.01861804099429006\n",
            "Warning: Computed D(3.1420765027322406) = -0.018618 is not in (0,1); using previous discount factor D(2.621917808219178) = 0.018122 instead.Similar to original implementation of bootstrapping\n",
            "-0.0046221823490708676\n",
            "Warning: Computed D(3.644808743169399) = -0.004622 is not in (0,1); using previous discount factor D(3.1420765027322406) = 0.018122 instead.Similar to original implementation of bootstrapping\n",
            "-0.08493840108749699\n",
            "Warning: Computed D(4.13972602739726) = -0.084938 is not in (0,1); using previous discount factor D(3.644808743169399) = 0.018122 instead.Similar to original implementation of bootstrapping\n",
            "-0.05226869015086203\n",
            "Warning: Computed D(4.6438356164383565) = -0.052269 is not in (0,1); using previous discount factor D(4.13972602739726) = 0.018122 instead.Similar to original implementation of bootstrapping\n",
            "0.019442311109702418\n"
          ]
        }
      ]
    },
    {
      "cell_type": "code",
      "source": [
        "#rows 7, 11, 16, 19, 23, 25, 27, 28, 31, 33\n",
        "\n",
        "settlement_date_str = '1/10/2025'\n",
        "jan10bonds = [\n",
        "    {'coupon': 3.5, 'maturity_date': '8/1/2025',\n",
        "     'coupon_payment_start_date': '8/1/2023', 'close_price': 100.19},\n",
        "    {'coupon': 4.5, 'maturity_date': '2/1/2026',\n",
        "     'coupon_payment_start_date': '2/1/2024', 'close_price': 101.46},\n",
        "    {'coupon': 4.0, 'maturity_date': '8/3/2026',\n",
        "     'coupon_payment_start_date': '8/1/2024', 'close_price': 101.46},\n",
        "    {'coupon': 3.0, 'maturity_date': '2/1/2027',\n",
        "     'coupon_payment_start_date': '2/1/2025', 'close_price': 99.96},\n",
        "    {'coupon': 3.25, 'maturity_date': '8/24/2027',\n",
        "     'coupon_payment_start_date': '2/24/2023', 'close_price': 100.72},\n",
        "    {'coupon': 3.5, 'maturity_date': '3/1/2028',\n",
        "     'coupon_payment_start_date': '3/1/2023','close_price': 101.52},\n",
        "    {'coupon': 3.25, 'maturity_date': '9/1/2028',\n",
        "     'coupon_payment_start_date': '9/1/2023', 'close_price': 100.79},\n",
        "    {'coupon': 4.0, 'maturity_date': '3/1/2029',\n",
        "     'coupon_payment_start_date': '3/1/2024', 'close_price': 103.53},\n",
        "    {'coupon': 3.5, 'maturity_date': '9/1/2029',\n",
        "     'coupon_payment_start_date': '9/1/2024', 'close_price': 101.59},\n",
        "    {'coupon': 2.75, 'maturity_date': '3/1/2030',\n",
        "     'coupon_payment_start_date': '3/1/2025', 'close_price': 97.96}]\n",
        "\n",
        "updated_bonds = calculate_dirty_prices(jan10bonds, settlement_date_str)\n",
        "\n",
        "templatebonds = []\n",
        "for bond in updated_bonds:\n",
        "    maturity = datetime.strptime(bond['maturity_date'], '%m/%d/%Y').date()\n",
        "    settlement_date = datetime.strptime(settlement_date_str, '%m/%d/%Y').date()\n",
        "    templatebonds.append(tuple((bond['dirty_price'],\n",
        "                               bond['coupon'],\n",
        "                               year_diff_actual(settlement_date_str, bond['maturity_date']))))\n",
        "cleanedjan10bonds = templatebonds.copy()\n",
        "\n",
        "\n",
        "spot_rates_by_day[settlement_date_str] = bootstrap_yield_curve(cleanedjan10bonds)\n"
      ],
      "metadata": {
        "colab": {
          "base_uri": "https://localhost:8080/"
        },
        "id": "V63ejgugv_U2",
        "outputId": "8db356df-c78f-424c-9bf6-8d3621fe2829"
      },
      "execution_count": 43,
      "outputs": [
        {
          "output_type": "stream",
          "name": "stdout",
          "text": [
            "0.3643837608966376\n",
            "0.059980388926142346\n",
            "0.055349744867005106\n",
            "0.11201166318612894\n",
            "0.017436089742829522\n",
            "-0.01843900614343454\n",
            "Warning: Computed D(3.139344262295082) = -0.018439 is not in (0,1); using previous discount factor D(2.6191780821917807) = 0.017436 instead.Similar to original implementation of bootstrapping\n",
            "-0.0038874969055008738\n",
            "Warning: Computed D(3.6420765027322406) = -0.003887 is not in (0,1); using previous discount factor D(3.139344262295082) = 0.017436 instead.Similar to original implementation of bootstrapping\n",
            "-0.08420803085498983\n",
            "Warning: Computed D(4.136986301369863) = -0.084208 is not in (0,1); using previous discount factor D(3.6420765027322406) = 0.017436 instead.Similar to original implementation of bootstrapping\n",
            "-0.05147154110701809\n",
            "Warning: Computed D(4.641095890410959) = -0.051472 is not in (0,1); using previous discount factor D(4.136986301369863) = 0.017436 instead.Similar to original implementation of bootstrapping\n",
            "0.019412311974174732\n"
          ]
        }
      ]
    },
    {
      "cell_type": "code",
      "source": [
        "#rows 7, 11, 16, 19, 23, 25, 27, 28, 31, 33\n",
        "\n",
        "settlement_date_str = '1/13/2025'\n",
        "jan13bonds = [\n",
        "    {'coupon': 3.5, 'maturity_date': '8/1/2025',\n",
        "     'coupon_payment_start_date': '8/1/2023', 'close_price': 100.15},\n",
        "    {'coupon': 4.5, 'maturity_date': '2/1/2026',\n",
        "     'coupon_payment_start_date': '2/1/2024', 'close_price': 101.35},\n",
        "    {'coupon': 4.0, 'maturity_date': '8/3/2026',\n",
        "     'coupon_payment_start_date': '8/1/2024', 'close_price': 101.2},\n",
        "    {'coupon': 3.0, 'maturity_date': '2/1/2027',\n",
        "     'coupon_payment_start_date': '2/1/2025', 'close_price': 99.67},\n",
        "    {'coupon': 3.25, 'maturity_date': '8/24/2027',\n",
        "     'coupon_payment_start_date': '2/24/2023', 'close_price': 100.46},\n",
        "    {'coupon': 3.5, 'maturity_date': '3/1/2028',\n",
        "     'coupon_payment_start_date': '3/1/2023','close_price': 101.02},\n",
        "    {'coupon': 3.25, 'maturity_date': '9/1/2028',\n",
        "     'coupon_payment_start_date': '9/1/2023', 'close_price': 100.19},\n",
        "    {'coupon': 4.0, 'maturity_date': '3/1/2029',\n",
        "     'coupon_payment_start_date': '3/1/2024', 'close_price': 102.99},\n",
        "    {'coupon': 3.5, 'maturity_date': '9/1/2029',\n",
        "     'coupon_payment_start_date': '9/1/2024', 'close_price': 103.01},\n",
        "    {'coupon': 2.75, 'maturity_date': '3/1/2030',\n",
        "     'coupon_payment_start_date': '3/1/2025', 'close_price': 97.55}]\n",
        "\n",
        "updated_bonds = calculate_dirty_prices(jan13bonds, settlement_date_str)\n",
        "\n",
        "\n",
        "\n",
        "templatebonds = []\n",
        "for bond in updated_bonds:\n",
        "    maturity = datetime.strptime(bond['maturity_date'], '%m/%d/%Y').date()\n",
        "    settlement_date = datetime.strptime(settlement_date_str, '%m/%d/%Y').date()\n",
        "    templatebonds.append(tuple((bond['dirty_price'],\n",
        "                               bond['coupon'],\n",
        "                               year_diff_actual(settlement_date_str, bond['maturity_date']))))\n",
        "\n",
        "cleanedjan13bonds = templatebonds.copy()\n",
        "\n",
        "spot_rates_by_day[settlement_date_str] = bootstrap_yield_curve(cleanedjan13bonds)\n"
      ],
      "metadata": {
        "colab": {
          "base_uri": "https://localhost:8080/"
        },
        "id": "RviWMY1Gw_Iv",
        "outputId": "3cae52a3-3809-4489-bcaf-634160d57d51"
      },
      "execution_count": 44,
      "outputs": [
        {
          "output_type": "stream",
          "name": "stdout",
          "text": [
            "0.36423935242839356\n",
            "0.05974304052112267\n",
            "0.05473867867292526\n",
            "0.11144735702653515\n",
            "0.017410568305362816\n",
            "-0.019249000552512403\n",
            "Warning: Computed D(3.1311475409836067) = -0.019249 is not in (0,1); using previous discount factor D(2.610958904109589) = 0.017411 instead.Similar to original implementation of bootstrapping\n",
            "-0.005176658468008803\n",
            "Warning: Computed D(3.633879781420765) = -0.005177 is not in (0,1); using previous discount factor D(3.1311475409836067) = 0.017411 instead.Similar to original implementation of bootstrapping\n",
            "-0.08491780593835391\n",
            "Warning: Computed D(4.1287671232876715) = -0.084918 is not in (0,1); using previous discount factor D(3.633879781420765) = 0.017411 instead.Similar to original implementation of bootstrapping\n",
            "-0.04525099459002325\n",
            "Warning: Computed D(4.632876712328767) = -0.045251 is not in (0,1); using previous discount factor D(4.1287671232876715) = 0.017411 instead.Similar to original implementation of bootstrapping\n",
            "0.01866136989822651\n"
          ]
        }
      ]
    },
    {
      "cell_type": "code",
      "source": [
        "#rows 7, 11, 16, 19, 23, 25, 27, 28, 31, 33\n",
        "#data problems....\n",
        "settlement_date_str = '1/14/2025'\n",
        "jan14bonds = [\n",
        "    {'coupon': 3.5, 'maturity_date': '8/1/2025',\n",
        "     'coupon_payment_start_date': '8/1/2023', 'close_price': 100.15},\n",
        "    {'coupon': 4.5, 'maturity_date': '2/1/2026',\n",
        "     'coupon_payment_start_date': '2/1/2024', 'close_price': 101.35},\n",
        "    {'coupon': 4.0, 'maturity_date': '8/3/2026',\n",
        "     'coupon_payment_start_date': '8/1/2024', 'close_price': 101.2},\n",
        "    {'coupon': 3.0, 'maturity_date': '2/1/2027',\n",
        "     'coupon_payment_start_date': '2/1/2025', 'close_price': 99.19}, #data problems...\n",
        "    {'coupon': 3.25, 'maturity_date': '8/24/2027',\n",
        "     'coupon_payment_start_date': '2/24/2023', 'close_price': 100.46},\n",
        "    {'coupon': 3.5, 'maturity_date': '3/1/2028',\n",
        "     'coupon_payment_start_date': '3/1/2023','close_price': 101.02},\n",
        "    {'coupon': 3.25, 'maturity_date': '9/1/2028',\n",
        "     'coupon_payment_start_date': '9/1/2023', 'close_price': 100.19},\n",
        "    {'coupon': 4.0, 'maturity_date': '3/1/2029',\n",
        "     'coupon_payment_start_date': '3/1/2024', 'close_price': 102.99},\n",
        "    {'coupon': 3.5, 'maturity_date': '9/1/2029',\n",
        "     'coupon_payment_start_date': '9/1/2024', 'close_price': 103.01},\n",
        "    {'coupon': 2.75, 'maturity_date': '3/1/2030',\n",
        "     'coupon_payment_start_date': '3/1/2025', 'close_price': 97.29}]\n",
        "\n",
        "updated_bonds = calculate_dirty_prices(jan14bonds, settlement_date_str)\n",
        "\n",
        "templatebonds = []\n",
        "for bond in updated_bonds:\n",
        "    maturity = datetime.strptime(bond['maturity_date'], '%m/%d/%Y').date()\n",
        "    settlement_date = datetime.strptime(settlement_date_str, '%m/%d/%Y').date()\n",
        "    templatebonds.append(tuple((bond['dirty_price'],\n",
        "                               bond['coupon'],\n",
        "                               year_diff_actual(settlement_date_str, bond['maturity_date']))))\n",
        "\n",
        "cleanedjan14bonds = templatebonds.copy()\n",
        "\n",
        "spot_rates_by_day[settlement_date_str] = bootstrap_yield_curve(cleanedjan14bonds)\n"
      ],
      "metadata": {
        "colab": {
          "base_uri": "https://localhost:8080/"
        },
        "id": "3nUmDBvRxUBb",
        "outputId": "44663dee-4830-468f-cf2f-348e267b530d"
      },
      "execution_count": 45,
      "outputs": [
        {
          "output_type": "stream",
          "name": "stdout",
          "text": [
            "0.364239701120797\n",
            "0.059743178465370236\n",
            "0.054738719545294905\n",
            "0.10952704052112266\n",
            "0.018599348316827812\n",
            "-0.018783464324246366\n",
            "Warning: Computed D(3.128415300546448) = -0.018783 is not in (0,1); using previous discount factor D(2.6082191780821917) = 0.018599 instead.Similar to original implementation of bootstrapping\n",
            "-0.005459701327881378\n",
            "Warning: Computed D(3.6311475409836067) = -0.005460 is not in (0,1); using previous discount factor D(3.128415300546448) = 0.018599 instead.Similar to original implementation of bootstrapping\n",
            "-0.08601514133355233\n",
            "Warning: Computed D(4.126027397260274) = -0.086015 is not in (0,1); using previous discount factor D(3.6311475409836067) = 0.018599 instead.Similar to original implementation of bootstrapping\n",
            "-0.047054947474553924\n",
            "Warning: Computed D(4.63013698630137) = -0.047055 is not in (0,1); using previous discount factor D(4.126027397260274) = 0.018599 instead.Similar to original implementation of bootstrapping\n",
            "0.015236884547159782\n"
          ]
        }
      ]
    },
    {
      "cell_type": "code",
      "source": [
        "#rows 7, 11, 16, 19, 23, 25, 27, 28, 31, 33\n",
        "\n",
        "settlement_date_str = '1/15/2025'\n",
        "jan15bonds = [\n",
        "    {'coupon': 3.5, 'maturity_date': '8/1/2025',\n",
        "     'coupon_payment_start_date': '8/1/2023', 'close_price': 100.21},\n",
        "    {'coupon': 4.5, 'maturity_date': '2/1/2026',\n",
        "     'coupon_payment_start_date': '2/1/2024', 'close_price': 101.46},\n",
        "    {'coupon': 4.0, 'maturity_date': '8/3/2026',\n",
        "     'coupon_payment_start_date': '8/1/2024', 'close_price': 101.38},\n",
        "    {'coupon': 3.0, 'maturity_date': '2/1/2027',\n",
        "     'coupon_payment_start_date': '2/1/2025', 'close_price': 99.89},\n",
        "    {'coupon': 3.25, 'maturity_date': '8/24/2027',\n",
        "     'coupon_payment_start_date': '2/24/2023', 'close_price': 100.55},\n",
        "    {'coupon': 3.5, 'maturity_date': '3/1/2028',\n",
        "     'coupon_payment_start_date': '3/1/2023','close_price': 101.36},\n",
        "    {'coupon': 3.25, 'maturity_date': '9/1/2028',\n",
        "     'coupon_payment_start_date': '9/1/2023', 'close_price': 100.62},\n",
        "    {'coupon': 4.0, 'maturity_date': '3/1/2029',\n",
        "     'coupon_payment_start_date': '3/1/2024', 'close_price': 103.43},\n",
        "    {'coupon': 3.5, 'maturity_date': '9/1/2029',\n",
        "     'coupon_payment_start_date': '9/1/2024', 'close_price': 103.01},\n",
        "    {'coupon': 2.75, 'maturity_date': '3/1/2030',\n",
        "     'coupon_payment_start_date': '3/1/2025', 'close_price': 97.84}]\n",
        "\n",
        "updated_bonds = calculate_dirty_prices(jan15bonds, settlement_date_str)\n",
        "\n",
        "templatebonds = []\n",
        "for bond in updated_bonds:\n",
        "    maturity = datetime.strptime(bond['maturity_date'], '%m/%d/%Y').date()\n",
        "    settlement_date = datetime.strptime(settlement_date_str, '%m/%d/%Y').date()\n",
        "    templatebonds.append(tuple((bond['dirty_price'],\n",
        "                               bond['coupon'],\n",
        "                               year_diff_actual(settlement_date_str, bond['maturity_date']))))\n",
        "\n",
        "cleanedjan15bonds = templatebonds.copy()\n",
        "\n",
        "spot_rates_by_day[settlement_date_str] = bootstrap_yield_curve(cleanedjan15bonds)\n"
      ],
      "metadata": {
        "colab": {
          "base_uri": "https://localhost:8080/"
        },
        "id": "dfKuiTCuyhjI",
        "outputId": "ee390ce9-5819-4c12-b649-90d441578bf3"
      },
      "execution_count": 48,
      "outputs": [
        {
          "output_type": "stream",
          "name": "stdout",
          "text": [
            "0.3644582316313823\n",
            "0.05993072899703035\n",
            "0.05506836414726825\n",
            "0.11188560513459146\n",
            "0.01702703164719602\n",
            "-0.01851528064242385\n",
            "Warning: Computed D(3.1256830601092895) = -0.018515 is not in (0,1); using previous discount factor D(2.6054794520547944) = 0.017027 instead.Similar to original implementation of bootstrapping\n",
            "-0.0037901021208261096\n",
            "Warning: Computed D(3.628415300546448) = -0.003790 is not in (0,1); using previous discount factor D(3.1256830601092895) = 0.017027 instead.Similar to original implementation of bootstrapping\n",
            "-0.08346633620261017\n",
            "Warning: Computed D(4.123287671232877) = -0.083466 is not in (0,1); using previous discount factor D(3.628415300546448) = 0.017027 instead.Similar to original implementation of bootstrapping\n",
            "-0.04502143196888896\n",
            "Warning: Computed D(4.627397260273972) = -0.045021 is not in (0,1); using previous discount factor D(4.123287671232877) = 0.017027 instead.Similar to original implementation of bootstrapping\n",
            "0.020312685810064415\n"
          ]
        }
      ]
    },
    {
      "cell_type": "code",
      "source": [
        "#rows 7, 11, 16, 19, 23, 25, 27, 28, 31, 33\n",
        "\n",
        "settlement_date_str = '1/16/2025'\n",
        "jan16bonds = [\n",
        "    {'coupon': 3.5, 'maturity_date': '8/1/2025',\n",
        "     'coupon_payment_start_date': '8/1/2023', 'close_price': 100.25},\n",
        "    {'coupon': 4.5, 'maturity_date': '2/1/2026',\n",
        "     'coupon_payment_start_date': '2/1/2024', 'close_price': 101.46},\n",
        "    {'coupon': 4.0, 'maturity_date': '8/3/2026',\n",
        "     'coupon_payment_start_date': '8/1/2024', 'close_price': 101.38},\n",
        "    {'coupon': 3.0, 'maturity_date': '2/1/2027',\n",
        "     'coupon_payment_start_date': '2/1/2025', 'close_price': 100.03},\n",
        "    {'coupon': 3.25, 'maturity_date': '8/24/2027',\n",
        "     'coupon_payment_start_date': '2/24/2023', 'close_price': 100.73},\n",
        "    {'coupon': 3.5, 'maturity_date': '3/1/2028',\n",
        "     'coupon_payment_start_date': '3/1/2023','close_price': 101.58},\n",
        "    {'coupon': 3.25, 'maturity_date': '9/1/2028',\n",
        "     'coupon_payment_start_date': '9/1/2023', 'close_price': 100.92},\n",
        "    {'coupon': 4.0, 'maturity_date': '3/1/2029',\n",
        "     'coupon_payment_start_date': '3/1/2024', 'close_price': 103.8},\n",
        "    {'coupon': 3.5, 'maturity_date': '9/1/2029',\n",
        "     'coupon_payment_start_date': '9/1/2024', 'close_price': 103.01},\n",
        "    {'coupon': 2.75, 'maturity_date': '3/1/2030',\n",
        "     'coupon_payment_start_date': '3/1/2025', 'close_price': 98.29}]\n",
        "\n",
        "updated_bonds = calculate_dirty_prices(jan16bonds, settlement_date_str)\n",
        "\n",
        "templatebonds = []\n",
        "for bond in updated_bonds:\n",
        "    maturity = datetime.strptime(bond['maturity_date'], '%m/%d/%Y').date()\n",
        "    settlement_date = datetime.strptime(settlement_date_str, '%m/%d/%Y').date()\n",
        "    templatebonds.append(tuple((bond['dirty_price'],\n",
        "                               bond['coupon'],\n",
        "                               year_diff_actual(settlement_date_str, bond['maturity_date']))))\n",
        "\n",
        "cleanedjan16bonds = templatebonds.copy()\n",
        "\n",
        "\n",
        "spot_rates_by_day[settlement_date_str] = bootstrap_yield_curve(cleanedjan16bonds)\n"
      ],
      "metadata": {
        "colab": {
          "base_uri": "https://localhost:8080/"
        },
        "id": "88uOlcMByuaR",
        "outputId": "846c20ad-c595-4858-f724-47628f4a27a0"
      },
      "execution_count": 49,
      "outputs": [
        {
          "output_type": "stream",
          "name": "stdout",
          "text": [
            "0.3646040348692403\n",
            "0.05983016764057857\n",
            "0.05503856818980111\n",
            "0.11243633758022804\n",
            "0.0173625937654431\n",
            "-0.018288766805907554\n",
            "Warning: Computed D(3.122950819672131) = -0.018289 is not in (0,1); using previous discount factor D(2.602739726027397) = 0.017363 instead.Similar to original implementation of bootstrapping\n",
            "-0.0034128550061231114\n",
            "Warning: Computed D(3.6256830601092895) = -0.003413 is not in (0,1); using previous discount factor D(3.122950819672131) = 0.017363 instead.Similar to original implementation of bootstrapping\n",
            "-0.08328121405535105\n",
            "Warning: Computed D(4.120547945205479) = -0.083281 is not in (0,1); using previous discount factor D(3.6256830601092895) = 0.017363 instead.Similar to original implementation of bootstrapping\n",
            "-0.046235536721753505\n",
            "Warning: Computed D(4.624657534246575) = -0.046236 is not in (0,1); using previous discount factor D(4.120547945205479) = 0.017363 instead.Similar to original implementation of bootstrapping\n",
            "0.020908271148542122\n"
          ]
        }
      ]
    },
    {
      "cell_type": "code",
      "source": [
        "#rows 7, 11, 16, 19, 23, 25, 27, 28, 31, 33\n",
        "\n",
        "settlement_date_str = '1/17/2025'\n",
        "jan17bonds = [\n",
        "    {'coupon': 3.5, 'maturity_date': '8/1/2025',\n",
        "     'coupon_payment_start_date': '8/1/2023', 'close_price': 100.26},\n",
        "    {'coupon': 4.5, 'maturity_date': '2/1/2026',\n",
        "     'coupon_payment_start_date': '2/1/2024', 'close_price': 101.54},\n",
        "    {'coupon': 4.0, 'maturity_date': '8/3/2026',\n",
        "     'coupon_payment_start_date': '8/1/2024', 'close_price': 101.47},\n",
        "    {'coupon': 3.0, 'maturity_date': '2/1/2027',\n",
        "     'coupon_payment_start_date': '2/1/2025', 'close_price': 100.07},\n",
        "    {'coupon': 3.25, 'maturity_date': '8/24/2027',\n",
        "     'coupon_payment_start_date': '2/24/2023', 'close_price': 101},\n",
        "    {'coupon': 3.5, 'maturity_date': '3/1/2028',\n",
        "     'coupon_payment_start_date': '3/1/2023','close_price': 101.65},\n",
        "    {'coupon': 3.25, 'maturity_date': '9/1/2028',\n",
        "     'coupon_payment_start_date': '9/1/2023', 'close_price': 101.02},\n",
        "    {'coupon': 4.0, 'maturity_date': '3/1/2029',\n",
        "     'coupon_payment_start_date': '3/1/2024', 'close_price': 103.9},\n",
        "    {'coupon': 3.5, 'maturity_date': '9/1/2029',\n",
        "     'coupon_payment_start_date': '9/1/2024', 'close_price': 103.01},\n",
        "    {'coupon': 2.75, 'maturity_date': '3/1/2030',\n",
        "     'coupon_payment_start_date': '3/1/2025', 'close_price': 98.4}]\n",
        "\n",
        "updated_bonds = calculate_dirty_prices(jan17bonds, settlement_date_str)\n",
        "\n",
        "templatebonds = []\n",
        "for bond in updated_bonds:\n",
        "    maturity = datetime.strptime(bond['maturity_date'], '%m/%d/%Y').date()\n",
        "    settlement_date = datetime.strptime(settlement_date_str, '%m/%d/%Y').date()\n",
        "    templatebonds.append(tuple((bond['dirty_price'],\n",
        "                               bond['coupon'],\n",
        "                               year_diff_actual(settlement_date_str, bond['maturity_date']))))\n",
        "cleanedjan17bonds = templatebonds.copy()\n",
        "\n",
        "spot_rates_by_day[settlement_date_str] = bootstrap_yield_curve(cleanedjan17bonds)\n"
      ],
      "metadata": {
        "colab": {
          "base_uri": "https://localhost:8080/"
        },
        "id": "wDO9MbQxziVp",
        "outputId": "edfaddd5-e627-4c5d-b17d-c78e46aef311"
      },
      "execution_count": 50,
      "outputs": [
        {
          "output_type": "stream",
          "name": "stdout",
          "text": [
            "0.3646407471980075\n",
            "0.06005128460580518\n",
            "0.05516704729060891\n",
            "0.11236455254334703\n",
            "0.01819679946233372\n",
            "-0.01876488205747483\n",
            "Warning: Computed D(3.120218579234973) = -0.018765 is not in (0,1); using previous discount factor D(2.6) = 0.018197 instead.Similar to original implementation of bootstrapping\n",
            "-0.0042590944577637485\n",
            "Warning: Computed D(3.6229508196721314) = -0.004259 is not in (0,1); using previous discount factor D(3.120218579234973) = 0.018197 instead.Similar to original implementation of bootstrapping\n",
            "-0.08482560905760901\n",
            "Warning: Computed D(4.117808219178082) = -0.084826 is not in (0,1); using previous discount factor D(3.6229508196721314) = 0.018197 instead.Similar to original implementation of bootstrapping\n",
            "-0.04855877194011198\n",
            "Warning: Computed D(4.6219178082191785) = -0.048559 is not in (0,1); using previous discount factor D(4.117808219178082) = 0.018197 instead.Similar to original implementation of bootstrapping\n",
            "0.01877453060822063\n"
          ]
        }
      ]
    },
    {
      "cell_type": "code",
      "source": [
        "spot_rates_by_day.keys()"
      ],
      "metadata": {
        "colab": {
          "base_uri": "https://localhost:8080/"
        },
        "id": "kyETzF5mz3o4",
        "outputId": "0847c546-3732-49fe-adf0-6eb575271296"
      },
      "execution_count": 25,
      "outputs": [
        {
          "output_type": "execute_result",
          "data": {
            "text/plain": [
              "dict_keys(['1/6/2025', '1/7/2025', '1/8/2025', '1/9/2025', '1/10/2025', '1/13/2025', '1/14/2025', '1/15/2025', '1/16/2025', '1/17/2025'])"
            ]
          },
          "metadata": {},
          "execution_count": 25
        }
      ]
    },
    {
      "cell_type": "code",
      "source": [
        "spot_rates = bootstrap_yield_curve(templatebonds)\n",
        "# print(\"Spot Rates:\", spot_rates)\n",
        "\n",
        "\n"
      ],
      "metadata": {
        "colab": {
          "base_uri": "https://localhost:8080/"
        },
        "id": "0WIYionhl0sy",
        "outputId": "3bda0ad9-5625-4fa4-e50d-005f2cda4183",
        "collapsed": true
      },
      "execution_count": 26,
      "outputs": [
        {
          "output_type": "stream",
          "name": "stdout",
          "text": [
            "0.3646407471980075\n",
            "0.06005128460580518\n",
            "0.05516704729060891\n",
            "0.11236455254334703\n",
            "0.01819679946233372\n",
            "-0.01876488205747483\n",
            "Warning: Computed D(3.120218579234973) = -0.018765 is not in (0,1); using previous discount factor D(2.6) = 0.018197 instead.Similar to original implementation of bootstrapping\n",
            "-0.0042590944577637485\n",
            "Warning: Computed D(3.6229508196721314) = -0.004259 is not in (0,1); using previous discount factor D(3.120218579234973) = 0.018197 instead.Similar to original implementation of bootstrapping\n",
            "-0.08482560905760901\n",
            "Warning: Computed D(4.117808219178082) = -0.084826 is not in (0,1); using previous discount factor D(3.6229508196721314) = 0.018197 instead.Similar to original implementation of bootstrapping\n",
            "-0.04855877194011198\n",
            "Warning: Computed D(4.6219178082191785) = -0.048559 is not in (0,1); using previous discount factor D(4.117808219178082) = 0.018197 instead.Similar to original implementation of bootstrapping\n",
            "0.01877453060822063\n"
          ]
        }
      ]
    },
    {
      "cell_type": "markdown",
      "source": [
        "## Plotting the yield curve"
      ],
      "metadata": {
        "id": "hcKU-jPdn5J_"
      }
    },
    {
      "cell_type": "code",
      "source": [
        "# maturities = [bond[2] for bond in templatebonds]\n",
        "# fig = go.Figure(go.Scatter(x=maturities, y=list(spot_rates.values()), mode='lines+markers'))\n",
        "# fig.update_layout(title='Bootstrapped Yield Curve', xaxis_title='Maturity (Years)', yaxis_title='Spot Rate (%)')\n",
        "# fig.show()"
      ],
      "metadata": {
        "id": "DbztXbuVxz13"
      },
      "execution_count": null,
      "outputs": []
    },
    {
      "cell_type": "code",
      "source": [
        "fig = go.Figure()\n",
        "\n",
        "for day, curve in spot_rates_by_day.items():\n",
        "    # If the maturities are not guaranteed to be in order, sort them.\n",
        "    maturities = sorted(curve.keys())\n",
        "    # Extract the corresponding spot rates (convert to percentages if desired)\n",
        "    spot_values = [curve[t] for t in maturities]\n",
        "\n",
        "    fig.add_trace(go.Scatter(\n",
        "        x=maturities,\n",
        "        y=spot_values,\n",
        "        mode='lines+markers',\n",
        "        name=str(day)\n",
        "    ))\n",
        "\n",
        "fig.update_layout(\n",
        "    title='Bootstrapped Spot Curve for Multiple Days',\n",
        "    xaxis_title='Maturity (Years)',\n",
        "    yaxis_title='Spot Rate (%)'\n",
        ")\n",
        "fig.show()\n"
      ],
      "metadata": {
        "colab": {
          "base_uri": "https://localhost:8080/",
          "height": 542
        },
        "id": "1gVpP_Rs0AGZ",
        "outputId": "156e99f0-eb78-4766-aa48-52e428514ac9"
      },
      "execution_count": 28,
      "outputs": [
        {
          "output_type": "display_data",
          "data": {
            "text/html": [
              "<html>\n",
              "<head><meta charset=\"utf-8\" /></head>\n",
              "<body>\n",
              "    <div>            <script src=\"https://cdnjs.cloudflare.com/ajax/libs/mathjax/2.7.5/MathJax.js?config=TeX-AMS-MML_SVG\"></script><script type=\"text/javascript\">if (window.MathJax && window.MathJax.Hub && window.MathJax.Hub.Config) {window.MathJax.Hub.Config({SVG: {font: \"STIX-Web\"}});}</script>                <script type=\"text/javascript\">window.PlotlyConfig = {MathJaxConfig: 'local'};</script>\n",
              "        <script charset=\"utf-8\" src=\"https://cdn.plot.ly/plotly-2.35.2.min.js\"></script>                <div id=\"dc00239f-12a4-462a-bb35-5fe54e869753\" class=\"plotly-graph-div\" style=\"height:525px; width:100%;\"></div>            <script type=\"text/javascript\">                                    window.PLOTLYENV=window.PLOTLYENV || {};                                    if (document.getElementById(\"dc00239f-12a4-462a-bb35-5fe54e869753\")) {                    Plotly.newPlot(                        \"dc00239f-12a4-462a-bb35-5fe54e869753\",                        [{\"mode\":\"lines+markers\",\"name\":\"1\\u002f6\\u002f2025\",\"x\":[0.5671232876712329,1.0712328767123287,1.5726027397260274,2.0712328767123287,2.6301369863013697,3.150273224043716,3.6530054644808745,4.147945205479452,4.652054794520548,5.147945205479452],\"y\":[2.8675709547114385,5.425866463133378,3.020288487275775,1.3900893392928615,2.2878109679720415,1.7805138499643212,1.4633438347986822,1.243706079970968,1.0781094982579864,0.9158544816844985],\"type\":\"scatter\"},{\"mode\":\"lines+markers\",\"name\":\"1\\u002f7\\u002f2025\",\"x\":[0.5643835616438356,1.0684931506849316,1.56986301369863,2.0684931506849313,2.6273972602739724,3.1475409836065573,3.650273224043716,4.145205479452055,4.64931506849315,5.145205479452055],\"y\":[2.8890609471991624,5.449420248732613,3.0252501532106466,1.3920079301369035,2.2922028188495602,1.7833255053755543,1.465337451690917,1.245212956108987,1.0792892838649446,0.9293092517372856],\"type\":\"scatter\"},{\"mode\":\"lines+markers\",\"name\":\"1\\u002f8\\u002f2025\",\"x\":[0.5616438356164384,1.0657534246575342,1.5671232876712329,2.0657534246575344,2.6246575342465754,3.1448087431693987,3.6475409836065573,4.142465753424657,4.646575342465754,5.142465753424657],\"y\":[2.9108569119907903,5.476756337639338,3.035810650713792,1.395451433439126,2.3044230463284556,1.791890552110698,1.4718719454447053,1.2504627762560143,1.0836344390145003,0.923623821459751],\"type\":\"scatter\"},{\"mode\":\"lines+markers\",\"name\":\"1\\u002f9\\u002f2025\",\"x\":[0.5589041095890411,1.063013698630137,1.5643835616438357,2.063013698630137,2.621917808219178,3.1420765027322406,3.644808743169399,4.13972602739726,4.6438356164383565,5.13972602739726],\"y\":[2.932084923082688,5.500069961570917,3.0434304773836844,1.3976546125237994,2.2972569924657007,1.7861977631022388,1.4671489117591245,1.246430922756773,1.0801287551135164,0.9342903287842104],\"type\":\"scatter\"},{\"mode\":\"lines+markers\",\"name\":\"1\\u002f10\\u002f2025\",\"x\":[0.5561643835616439,1.0602739726027397,1.5616438356164384,2.0602739726027397,2.6191780821917807,3.139344262295082,3.6420765027322406,4.136986301369863,4.641095890410959,5.136986301369863],\"y\":[2.956726103338096,5.538618579256967,3.0518855398675555,1.4022064016198366,2.332480608030254,1.811645615449204,1.4869961081073955,1.2626470021935297,1.0937432562195903,0.9353314120432481],\"type\":\"scatter\"},{\"mode\":\"lines+markers\",\"name\":\"1\\u002f13\\u002f2025\",\"x\":[0.547945205479452,1.0520547945205478,1.5534246575342465,2.052054794520548,2.610958904109589,3.1311475409836067,3.633879781420765,4.1287671232876715,4.632876712328767,5.1287671232876715],\"y\":[3.026486045271704,5.63154014486907,3.094887054530364,1.4136521908959234,2.344254295639349,1.8189792605291353,1.4920749193603164,1.2664065112141643,1.096627996724664,0.9484551740899474],\"type\":\"scatter\"},{\"mode\":\"lines+markers\",\"name\":\"1\\u002f14\\u002f2025\",\"x\":[0.5452054794520548,1.0493150684931507,1.5506849315068494,2.0493150684931507,2.6082191780821917,3.128415300546448,3.6311475409836067,4.126027397260274,4.63013698630137,5.126027397260274],\"y\":[3.0498133772886575,5.658261763404482,3.1033100611679076,1.4306102178052682,2.2930919432567327,1.7810122819513854,1.4619107043556596,1.2414223052503779,1.0754152372187957,1.007965743553914],\"type\":\"scatter\"},{\"mode\":\"lines+markers\",\"name\":\"1\\u002f15\\u002f2025\",\"x\":[0.5424657534246575,1.0465753424657533,1.547945205479452,2.0465753424657533,2.6054794520547944,3.1256830601092895,3.628415300546448,4.123287671232877,4.627397260273972,5.123287671232877],\"y\":[3.0706867157960236,5.673726531795525,3.101874078587202,1.415265843637607,2.3699875377752955,1.8369480262345719,1.5057519190881,1.277377260445236,1.1056974874207577,0.9253716140274038],\"type\":\"scatter\"},{\"mode\":\"lines+markers\",\"name\":\"1\\u002f16\\u002f2025\",\"x\":[0.5397260273972603,1.0438356164383562,1.5452054794520547,2.043835616438356,2.602739726027397,3.122950819672131,3.6256830601092895,4.120547945205479,4.624657534246575,5.120547945205479],\"y\":[3.0928021666807135,5.70705433176253,3.11124726899894,1.4136135268913539,2.3572180635018203,1.8271587438001764,1.4978085089939412,1.270699093460145,1.0999595243225948,0.9177217716986399],\"type\":\"scatter\"},{\"mode\":\"lines+markers\",\"name\":\"1\\u002f17\\u002f2025\",\"x\":[0.536986301369863,1.0410958904109588,1.5424657534246575,2.041095890410959,2.6,3.120218579234973,3.6229508196721314,4.117808219178082,4.6219178082191785,5.117808219178082],\"y\":[3.1166669094915074,5.720772080041389,3.1159046597793525,1.4165985524566156,2.321617645378807,1.8006459563626271,1.476693703708516,1.2531796489574205,1.0850633487803512,0.9491643036929878],\"type\":\"scatter\"}],                        {\"template\":{\"data\":{\"histogram2dcontour\":[{\"type\":\"histogram2dcontour\",\"colorbar\":{\"outlinewidth\":0,\"ticks\":\"\"},\"colorscale\":[[0.0,\"#0d0887\"],[0.1111111111111111,\"#46039f\"],[0.2222222222222222,\"#7201a8\"],[0.3333333333333333,\"#9c179e\"],[0.4444444444444444,\"#bd3786\"],[0.5555555555555556,\"#d8576b\"],[0.6666666666666666,\"#ed7953\"],[0.7777777777777778,\"#fb9f3a\"],[0.8888888888888888,\"#fdca26\"],[1.0,\"#f0f921\"]]}],\"choropleth\":[{\"type\":\"choropleth\",\"colorbar\":{\"outlinewidth\":0,\"ticks\":\"\"}}],\"histogram2d\":[{\"type\":\"histogram2d\",\"colorbar\":{\"outlinewidth\":0,\"ticks\":\"\"},\"colorscale\":[[0.0,\"#0d0887\"],[0.1111111111111111,\"#46039f\"],[0.2222222222222222,\"#7201a8\"],[0.3333333333333333,\"#9c179e\"],[0.4444444444444444,\"#bd3786\"],[0.5555555555555556,\"#d8576b\"],[0.6666666666666666,\"#ed7953\"],[0.7777777777777778,\"#fb9f3a\"],[0.8888888888888888,\"#fdca26\"],[1.0,\"#f0f921\"]]}],\"heatmap\":[{\"type\":\"heatmap\",\"colorbar\":{\"outlinewidth\":0,\"ticks\":\"\"},\"colorscale\":[[0.0,\"#0d0887\"],[0.1111111111111111,\"#46039f\"],[0.2222222222222222,\"#7201a8\"],[0.3333333333333333,\"#9c179e\"],[0.4444444444444444,\"#bd3786\"],[0.5555555555555556,\"#d8576b\"],[0.6666666666666666,\"#ed7953\"],[0.7777777777777778,\"#fb9f3a\"],[0.8888888888888888,\"#fdca26\"],[1.0,\"#f0f921\"]]}],\"heatmapgl\":[{\"type\":\"heatmapgl\",\"colorbar\":{\"outlinewidth\":0,\"ticks\":\"\"},\"colorscale\":[[0.0,\"#0d0887\"],[0.1111111111111111,\"#46039f\"],[0.2222222222222222,\"#7201a8\"],[0.3333333333333333,\"#9c179e\"],[0.4444444444444444,\"#bd3786\"],[0.5555555555555556,\"#d8576b\"],[0.6666666666666666,\"#ed7953\"],[0.7777777777777778,\"#fb9f3a\"],[0.8888888888888888,\"#fdca26\"],[1.0,\"#f0f921\"]]}],\"contourcarpet\":[{\"type\":\"contourcarpet\",\"colorbar\":{\"outlinewidth\":0,\"ticks\":\"\"}}],\"contour\":[{\"type\":\"contour\",\"colorbar\":{\"outlinewidth\":0,\"ticks\":\"\"},\"colorscale\":[[0.0,\"#0d0887\"],[0.1111111111111111,\"#46039f\"],[0.2222222222222222,\"#7201a8\"],[0.3333333333333333,\"#9c179e\"],[0.4444444444444444,\"#bd3786\"],[0.5555555555555556,\"#d8576b\"],[0.6666666666666666,\"#ed7953\"],[0.7777777777777778,\"#fb9f3a\"],[0.8888888888888888,\"#fdca26\"],[1.0,\"#f0f921\"]]}],\"surface\":[{\"type\":\"surface\",\"colorbar\":{\"outlinewidth\":0,\"ticks\":\"\"},\"colorscale\":[[0.0,\"#0d0887\"],[0.1111111111111111,\"#46039f\"],[0.2222222222222222,\"#7201a8\"],[0.3333333333333333,\"#9c179e\"],[0.4444444444444444,\"#bd3786\"],[0.5555555555555556,\"#d8576b\"],[0.6666666666666666,\"#ed7953\"],[0.7777777777777778,\"#fb9f3a\"],[0.8888888888888888,\"#fdca26\"],[1.0,\"#f0f921\"]]}],\"mesh3d\":[{\"type\":\"mesh3d\",\"colorbar\":{\"outlinewidth\":0,\"ticks\":\"\"}}],\"scatter\":[{\"fillpattern\":{\"fillmode\":\"overlay\",\"size\":10,\"solidity\":0.2},\"type\":\"scatter\"}],\"parcoords\":[{\"type\":\"parcoords\",\"line\":{\"colorbar\":{\"outlinewidth\":0,\"ticks\":\"\"}}}],\"scatterpolargl\":[{\"type\":\"scatterpolargl\",\"marker\":{\"colorbar\":{\"outlinewidth\":0,\"ticks\":\"\"}}}],\"bar\":[{\"error_x\":{\"color\":\"#2a3f5f\"},\"error_y\":{\"color\":\"#2a3f5f\"},\"marker\":{\"line\":{\"color\":\"#E5ECF6\",\"width\":0.5},\"pattern\":{\"fillmode\":\"overlay\",\"size\":10,\"solidity\":0.2}},\"type\":\"bar\"}],\"scattergeo\":[{\"type\":\"scattergeo\",\"marker\":{\"colorbar\":{\"outlinewidth\":0,\"ticks\":\"\"}}}],\"scatterpolar\":[{\"type\":\"scatterpolar\",\"marker\":{\"colorbar\":{\"outlinewidth\":0,\"ticks\":\"\"}}}],\"histogram\":[{\"marker\":{\"pattern\":{\"fillmode\":\"overlay\",\"size\":10,\"solidity\":0.2}},\"type\":\"histogram\"}],\"scattergl\":[{\"type\":\"scattergl\",\"marker\":{\"colorbar\":{\"outlinewidth\":0,\"ticks\":\"\"}}}],\"scatter3d\":[{\"type\":\"scatter3d\",\"line\":{\"colorbar\":{\"outlinewidth\":0,\"ticks\":\"\"}},\"marker\":{\"colorbar\":{\"outlinewidth\":0,\"ticks\":\"\"}}}],\"scattermapbox\":[{\"type\":\"scattermapbox\",\"marker\":{\"colorbar\":{\"outlinewidth\":0,\"ticks\":\"\"}}}],\"scatterternary\":[{\"type\":\"scatterternary\",\"marker\":{\"colorbar\":{\"outlinewidth\":0,\"ticks\":\"\"}}}],\"scattercarpet\":[{\"type\":\"scattercarpet\",\"marker\":{\"colorbar\":{\"outlinewidth\":0,\"ticks\":\"\"}}}],\"carpet\":[{\"aaxis\":{\"endlinecolor\":\"#2a3f5f\",\"gridcolor\":\"white\",\"linecolor\":\"white\",\"minorgridcolor\":\"white\",\"startlinecolor\":\"#2a3f5f\"},\"baxis\":{\"endlinecolor\":\"#2a3f5f\",\"gridcolor\":\"white\",\"linecolor\":\"white\",\"minorgridcolor\":\"white\",\"startlinecolor\":\"#2a3f5f\"},\"type\":\"carpet\"}],\"table\":[{\"cells\":{\"fill\":{\"color\":\"#EBF0F8\"},\"line\":{\"color\":\"white\"}},\"header\":{\"fill\":{\"color\":\"#C8D4E3\"},\"line\":{\"color\":\"white\"}},\"type\":\"table\"}],\"barpolar\":[{\"marker\":{\"line\":{\"color\":\"#E5ECF6\",\"width\":0.5},\"pattern\":{\"fillmode\":\"overlay\",\"size\":10,\"solidity\":0.2}},\"type\":\"barpolar\"}],\"pie\":[{\"automargin\":true,\"type\":\"pie\"}]},\"layout\":{\"autotypenumbers\":\"strict\",\"colorway\":[\"#636efa\",\"#EF553B\",\"#00cc96\",\"#ab63fa\",\"#FFA15A\",\"#19d3f3\",\"#FF6692\",\"#B6E880\",\"#FF97FF\",\"#FECB52\"],\"font\":{\"color\":\"#2a3f5f\"},\"hovermode\":\"closest\",\"hoverlabel\":{\"align\":\"left\"},\"paper_bgcolor\":\"white\",\"plot_bgcolor\":\"#E5ECF6\",\"polar\":{\"bgcolor\":\"#E5ECF6\",\"angularaxis\":{\"gridcolor\":\"white\",\"linecolor\":\"white\",\"ticks\":\"\"},\"radialaxis\":{\"gridcolor\":\"white\",\"linecolor\":\"white\",\"ticks\":\"\"}},\"ternary\":{\"bgcolor\":\"#E5ECF6\",\"aaxis\":{\"gridcolor\":\"white\",\"linecolor\":\"white\",\"ticks\":\"\"},\"baxis\":{\"gridcolor\":\"white\",\"linecolor\":\"white\",\"ticks\":\"\"},\"caxis\":{\"gridcolor\":\"white\",\"linecolor\":\"white\",\"ticks\":\"\"}},\"coloraxis\":{\"colorbar\":{\"outlinewidth\":0,\"ticks\":\"\"}},\"colorscale\":{\"sequential\":[[0.0,\"#0d0887\"],[0.1111111111111111,\"#46039f\"],[0.2222222222222222,\"#7201a8\"],[0.3333333333333333,\"#9c179e\"],[0.4444444444444444,\"#bd3786\"],[0.5555555555555556,\"#d8576b\"],[0.6666666666666666,\"#ed7953\"],[0.7777777777777778,\"#fb9f3a\"],[0.8888888888888888,\"#fdca26\"],[1.0,\"#f0f921\"]],\"sequentialminus\":[[0.0,\"#0d0887\"],[0.1111111111111111,\"#46039f\"],[0.2222222222222222,\"#7201a8\"],[0.3333333333333333,\"#9c179e\"],[0.4444444444444444,\"#bd3786\"],[0.5555555555555556,\"#d8576b\"],[0.6666666666666666,\"#ed7953\"],[0.7777777777777778,\"#fb9f3a\"],[0.8888888888888888,\"#fdca26\"],[1.0,\"#f0f921\"]],\"diverging\":[[0,\"#8e0152\"],[0.1,\"#c51b7d\"],[0.2,\"#de77ae\"],[0.3,\"#f1b6da\"],[0.4,\"#fde0ef\"],[0.5,\"#f7f7f7\"],[0.6,\"#e6f5d0\"],[0.7,\"#b8e186\"],[0.8,\"#7fbc41\"],[0.9,\"#4d9221\"],[1,\"#276419\"]]},\"xaxis\":{\"gridcolor\":\"white\",\"linecolor\":\"white\",\"ticks\":\"\",\"title\":{\"standoff\":15},\"zerolinecolor\":\"white\",\"automargin\":true,\"zerolinewidth\":2},\"yaxis\":{\"gridcolor\":\"white\",\"linecolor\":\"white\",\"ticks\":\"\",\"title\":{\"standoff\":15},\"zerolinecolor\":\"white\",\"automargin\":true,\"zerolinewidth\":2},\"scene\":{\"xaxis\":{\"backgroundcolor\":\"#E5ECF6\",\"gridcolor\":\"white\",\"linecolor\":\"white\",\"showbackground\":true,\"ticks\":\"\",\"zerolinecolor\":\"white\",\"gridwidth\":2},\"yaxis\":{\"backgroundcolor\":\"#E5ECF6\",\"gridcolor\":\"white\",\"linecolor\":\"white\",\"showbackground\":true,\"ticks\":\"\",\"zerolinecolor\":\"white\",\"gridwidth\":2},\"zaxis\":{\"backgroundcolor\":\"#E5ECF6\",\"gridcolor\":\"white\",\"linecolor\":\"white\",\"showbackground\":true,\"ticks\":\"\",\"zerolinecolor\":\"white\",\"gridwidth\":2}},\"shapedefaults\":{\"line\":{\"color\":\"#2a3f5f\"}},\"annotationdefaults\":{\"arrowcolor\":\"#2a3f5f\",\"arrowhead\":0,\"arrowwidth\":1},\"geo\":{\"bgcolor\":\"white\",\"landcolor\":\"#E5ECF6\",\"subunitcolor\":\"white\",\"showland\":true,\"showlakes\":true,\"lakecolor\":\"white\"},\"title\":{\"x\":0.05},\"mapbox\":{\"style\":\"light\"}}},\"title\":{\"text\":\"Bootstrapped Spot Curve for Multiple Days\"},\"xaxis\":{\"title\":{\"text\":\"Maturity (Years)\"}},\"yaxis\":{\"title\":{\"text\":\"Spot Rate (%)\"}}},                        {\"responsive\": true}                    ).then(function(){\n",
              "                            \n",
              "var gd = document.getElementById('dc00239f-12a4-462a-bb35-5fe54e869753');\n",
              "var x = new MutationObserver(function (mutations, observer) {{\n",
              "        var display = window.getComputedStyle(gd).display;\n",
              "        if (!display || display === 'none') {{\n",
              "            console.log([gd, 'removed!']);\n",
              "            Plotly.purge(gd);\n",
              "            observer.disconnect();\n",
              "        }}\n",
              "}});\n",
              "\n",
              "// Listen for the removal of the full notebook cells\n",
              "var notebookContainer = gd.closest('#notebook-container');\n",
              "if (notebookContainer) {{\n",
              "    x.observe(notebookContainer, {childList: true});\n",
              "}}\n",
              "\n",
              "// Listen for the clearing of the current output cell\n",
              "var outputEl = gd.closest('.output');\n",
              "if (outputEl) {{\n",
              "    x.observe(outputEl, {childList: true});\n",
              "}}\n",
              "\n",
              "                        })                };                            </script>        </div>\n",
              "</body>\n",
              "</html>"
            ]
          },
          "metadata": {}
        }
      ]
    },
    {
      "cell_type": "code",
      "source": [
        "#Calculating yield to maturity curves\n",
        "\n",
        "import math\n",
        "from scipy.optimize import newton\n",
        "\n",
        "def bond_price_from_ytm(y, coupon_rate, maturity):\n",
        "    \"\"\"\n",
        "    Compute the bond price given an annualized yield 'y' (compounded freq times per year),\n",
        "    an annual coupon rate (as a decimal), a maturity in years, a face value, and coupon frequency.\n",
        "    \"\"\"\n",
        "    face_value = 100.0\n",
        "    freq = 2\n",
        "\n",
        "    coupon = (coupon_rate * face_value) / freq\n",
        "\n",
        "    # N is number of full coupon periods before maturity\n",
        "    N = int(math.floor(maturity * freq))\n",
        "\n",
        "\n",
        "    # Sum coupon payments for full periods (each coupon paid in 6 months is considered 1 step)\n",
        "    price = 0.0\n",
        "    for i in range(1, N + 1):\n",
        "        price += coupon / ((1 + y/freq)**(i))\n",
        "\n",
        "    # discount the final payment (coupon + face value) at the exact time (which may be fractional)\n",
        "    final_time = maturity * freq\n",
        "    price_final = (coupon + face_value) / ((1 + y/freq)**final_time)\n",
        "\n",
        "    # Prevent double counting. If the maturity*freq is exactly an integer, then we already counted a coupon for period N.\n",
        "    # In that case, subtract the coupon for period N and replace it with the final payment.\n",
        "    if abs(final_time - N) < 1e-8:\n",
        "        price = price - coupon / ((1 + y/freq)**(N)) + price_final\n",
        "    else:\n",
        "        price += price_final\n",
        "\n",
        "    return price\n",
        "\n",
        "\n",
        "\n",
        "def ytm_for_bond(dirty_price, coupon_rate, maturity, face_value=100, freq=2, guess=0.05):\n",
        "    \"\"\"\n",
        "    Given a bond's dirty price, annual coupon rate, and maturity (in years),\n",
        "    solve for its yield to maturity (YTM) on an annualized basis (compounded freq times per year)\n",
        "    using Newton's method (secant method variant).\n",
        "    \"\"\"\n",
        "    face_value=100\n",
        "    freq=2\n",
        "    # Define the function whose root we wish to find: f(y) = computed_price(y) - dirty_price\n",
        "    f = lambda y: bond_price_from_ytm(y, coupon_rate, maturity) - dirty_price\n",
        "\n",
        "    try:\n",
        "        ytm = newton(f, guess)  # Using a default guess (5%)\n",
        "    except Exception as e:\n",
        "        print(f\"Could not solve YTM for bond (Price={dirty_price}, Coupon={coupon_rate}, Maturity={maturity}): {e}\")\n",
        "        ytm = None\n",
        "    return ytm"
      ],
      "metadata": {
        "id": "bXQlXme2mNMg"
      },
      "execution_count": 51,
      "outputs": []
    },
    {
      "cell_type": "code",
      "source": [
        "bond_data_by_day = {\n",
        "    '1/6/2025':cleanedjan6bonds,\n",
        "    '1/7/2025':cleanedjan7bonds,\n",
        "    '1/8/2025':cleanedjan8bonds,\n",
        "    '1/9/2025':cleanedjan9bonds,\n",
        "    '1/10/2025':cleanedjan10bonds,\n",
        "    '1/13/2025':cleanedjan13bonds,\n",
        "    '1/14/2025':cleanedjan14bonds,\n",
        "    '1/15/2025':cleanedjan15bonds,\n",
        "    '1/16/2025':cleanedjan16bonds,\n",
        "    '1/17/2025':cleanedjan17bonds}\n",
        "\n",
        "# Compute the yield curves for each day:\n",
        "yield_curves_by_day = {}\n",
        "\n",
        "for day, bonds in bond_data_by_day.items():\n",
        "    maturities = []\n",
        "    ytms = []\n",
        "    for bond in bonds:\n",
        "        dirty_price, coupon_rate, maturity = bond\n",
        "        ytm = ytm_for_bond(dirty_price, coupon_rate, maturity, face_value=100, freq=2)\n",
        "        if ytm is not None:\n",
        "            maturities.append(maturity)\n",
        "            ytms.append(ytm)\n",
        "    # Sort by maturity in case the bonds are not in order\n",
        "    sorted_pairs = sorted(zip(maturities, ytms), key=lambda x: x[0])\n",
        "    if sorted_pairs:\n",
        "        maturities_sorted, ytms_sorted = zip(*sorted_pairs)\n",
        "        yield_curves_by_day[day] = (maturities_sorted, ytms_sorted)\n",
        "\n",
        "fig = go.Figure()\n",
        "\n",
        "for day, (maturities, ytms) in yield_curves_by_day.items():\n",
        "    fig.add_trace(go.Scatter(\n",
        "        x=list(maturities),\n",
        "        y=list(ytms),\n",
        "        mode='lines+markers',\n",
        "        name=day\n",
        "    ))\n",
        "\n",
        "fig.update_layout(\n",
        "    title='Yield to Maturity Curves for Jan 6 - Jan 17',\n",
        "    xaxis_title='Maturity (Years)',\n",
        "    yaxis_title='Yield to Maturity (%)'\n",
        ")\n",
        "fig.show()"
      ],
      "metadata": {
        "colab": {
          "base_uri": "https://localhost:8080/",
          "height": 542
        },
        "id": "rl37wjiCnzcO",
        "outputId": "dcf32bba-680d-4e88-8e9d-06cd0574406d"
      },
      "execution_count": 55,
      "outputs": [
        {
          "output_type": "display_data",
          "data": {
            "text/html": [
              "<html>\n",
              "<head><meta charset=\"utf-8\" /></head>\n",
              "<body>\n",
              "    <div>            <script src=\"https://cdnjs.cloudflare.com/ajax/libs/mathjax/2.7.5/MathJax.js?config=TeX-AMS-MML_SVG\"></script><script type=\"text/javascript\">if (window.MathJax && window.MathJax.Hub && window.MathJax.Hub.Config) {window.MathJax.Hub.Config({SVG: {font: \"STIX-Web\"}});}</script>                <script type=\"text/javascript\">window.PlotlyConfig = {MathJaxConfig: 'local'};</script>\n",
              "        <script charset=\"utf-8\" src=\"https://cdn.plot.ly/plotly-2.35.2.min.js\"></script>                <div id=\"0582e275-7ff7-4fa9-96da-7fd1a7bb6746\" class=\"plotly-graph-div\" style=\"height:525px; width:100%;\"></div>            <script type=\"text/javascript\">                                    window.PLOTLYENV=window.PLOTLYENV || {};                                    if (document.getElementById(\"0582e275-7ff7-4fa9-96da-7fd1a7bb6746\")) {                    Plotly.newPlot(                        \"0582e275-7ff7-4fa9-96da-7fd1a7bb6746\",                        [{\"mode\":\"lines+markers\",\"name\":\"1\\u002f6\\u002f2025\",\"x\":[0.5671232876712329,1.0712328767123287,1.5726027397260274,2.0712328767123287,2.6301369863013697,3.150273224043716,3.6530054644808745,4.147945205479452,4.652054794520548,5.147945205479452],\"y\":[6.040783882294943,5.157518553807119,4.161028393010599,3.0863718877412465,3.2437683995463726,3.4461658397075525,3.2179442890887104,3.8438478960069733,3.4240050593407734,2.7835085765465157],\"type\":\"scatter\"},{\"mode\":\"lines+markers\",\"name\":\"1\\u002f7\\u002f2025\",\"x\":[0.5643835616438356,1.0684931506849316,1.56986301369863,2.0684931506849313,2.6273972602739724,3.1475409836065573,3.650273224043716,4.145205479452055,4.64931506849315,5.145205479452055],\"y\":[6.073974577723945,5.164919768575312,4.161973311152282,3.0862763428198714,3.2434081596622155,3.445581645758763,3.2167124434298953,3.846068161904606,3.4266866716335063,2.78943762215844],\"type\":\"scatter\"},{\"mode\":\"lines+markers\",\"name\":\"1\\u002f8\\u002f2025\",\"x\":[0.5616438356164384,1.0657534246575342,1.5671232876712329,2.0657534246575344,2.6246575342465754,3.1448087431693987,3.6475409836065573,4.142465753424657,4.646575342465754,5.142465753424657],\"y\":[6.1075906328336504,5.1733735896815025,4.165712536421654,3.0888973272374263,3.2468577084810155,3.449714207918029,3.2215121303623135,3.850141216649171,3.4300442156874187,2.7914222603533583],\"type\":\"scatter\"},{\"mode\":\"lines+markers\",\"name\":\"1\\u002f9\\u002f2025\",\"x\":[0.5589041095890411,1.063013698630137,1.5643835616438357,2.063013698630137,2.621917808219178,3.1420765027322406,3.644808743169399,4.13972602739726,4.6438356164383565,5.13972602739726],\"y\":[6.140118662187722,5.179876175143279,4.167078566084991,3.0891102890503355,3.244594878192952,3.449129605599712,3.2231399369216978,3.851257138452103,3.432062491901077,2.791143184927565],\"type\":\"scatter\"},{\"mode\":\"lines+markers\",\"name\":\"1\\u002f10\\u002f2025\",\"x\":[0.5561643835616439,1.0602739726027397,1.5616438356164384,2.0602739726027397,2.6191780821917807,3.139344262295082,3.6420765027322406,4.136986301369863,4.641095890410959,5.136986301369863],\"y\":[6.1784318321394025,5.193462237818459,4.172834814759792,3.0941573349707494,3.2544167287396433,3.45597645484589,3.227958560853138,3.8638980991457945,3.445231072109309,2.807663442153782],\"type\":\"scatter\"},{\"mode\":\"lines+markers\",\"name\":\"1\\u002f13\\u002f2025\",\"x\":[0.547945205479452,1.0520547945205478,1.5534246575342465,2.052054794520548,2.610958904109589,3.1311475409836067,3.633879781420765,4.1287671232876715,4.632876712328767,5.1287671232876715],\"y\":[6.285481455785649,5.2220337440130775,4.189823743070124,3.1054341632519558,3.2635740645984272,3.473256088515771,3.247338451004635,3.884153009383127,3.3977743747667337,2.8194691343851828],\"type\":\"scatter\"},{\"mode\":\"lines+markers\",\"name\":\"1\\u002f14\\u002f2025\",\"x\":[0.5452054794520548,1.0493150684931507,1.5506849315068494,2.0493150684931507,2.6082191780821917,3.128415300546448,3.6311475409836067,4.126027397260274,4.63013698630137,5.126027397260274],\"y\":[6.321064359919997,5.229818910113563,4.192050265737426,3.1209345511205724,3.2638570968455376,3.4733476020307688,3.2473760202268553,3.8841579244971034,3.3977762131471665,2.8270035261348303],\"type\":\"scatter\"},{\"mode\":\"lines+markers\",\"name\":\"1\\u002f15\\u002f2025\",\"x\":[0.5424657534246575,1.0465753424657533,1.547945205479452,2.0465753424657533,2.6054794520547944,3.1256830601092895,3.628415300546448,4.123287671232877,4.627397260273972,5.123287671232877],\"y\":[6.35235651768273,5.232081930832941,4.187086027622682,3.100433691491856,3.261258611450995,3.461858056791936,3.233583122335651,3.8676554135940937,3.3977780787716574,2.81112516268318],\"type\":\"scatter\"},{\"mode\":\"lines+markers\",\"name\":\"1\\u002f16\\u002f2025\",\"x\":[0.5397260273972603,1.0438356164383562,1.5452054794520547,2.043835616438356,2.602739726027397,3.122950819672131,3.6256830601092895,4.120547945205479,4.624657534246575,5.120547945205479],\"y\":[6.385669297333748,5.239969120026911,4.189336040427928,3.0970433256650205,3.255794399823214,3.4544986755324874,3.224042238845899,3.853887810135116,3.3977799717882244,2.798266946181587],\"type\":\"scatter\"},{\"mode\":\"lines+markers\",\"name\":\"1\\u002f17\\u002f2025\",\"x\":[0.536986301369863,1.0410958904109588,1.5424657534246575,2.041095890410959,2.6,3.120218579234973,3.6229508196721314,4.117808219178082,4.6219178082191785,5.117808219178082],\"y\":[6.421847411703282,5.243851668010669,4.188004411028916,3.0966829160380485,3.247495366551905,3.452228112723816,3.2209006919735734,3.850187668671495,3.3977818923456846,2.7951449123983876],\"type\":\"scatter\"}],                        {\"template\":{\"data\":{\"histogram2dcontour\":[{\"type\":\"histogram2dcontour\",\"colorbar\":{\"outlinewidth\":0,\"ticks\":\"\"},\"colorscale\":[[0.0,\"#0d0887\"],[0.1111111111111111,\"#46039f\"],[0.2222222222222222,\"#7201a8\"],[0.3333333333333333,\"#9c179e\"],[0.4444444444444444,\"#bd3786\"],[0.5555555555555556,\"#d8576b\"],[0.6666666666666666,\"#ed7953\"],[0.7777777777777778,\"#fb9f3a\"],[0.8888888888888888,\"#fdca26\"],[1.0,\"#f0f921\"]]}],\"choropleth\":[{\"type\":\"choropleth\",\"colorbar\":{\"outlinewidth\":0,\"ticks\":\"\"}}],\"histogram2d\":[{\"type\":\"histogram2d\",\"colorbar\":{\"outlinewidth\":0,\"ticks\":\"\"},\"colorscale\":[[0.0,\"#0d0887\"],[0.1111111111111111,\"#46039f\"],[0.2222222222222222,\"#7201a8\"],[0.3333333333333333,\"#9c179e\"],[0.4444444444444444,\"#bd3786\"],[0.5555555555555556,\"#d8576b\"],[0.6666666666666666,\"#ed7953\"],[0.7777777777777778,\"#fb9f3a\"],[0.8888888888888888,\"#fdca26\"],[1.0,\"#f0f921\"]]}],\"heatmap\":[{\"type\":\"heatmap\",\"colorbar\":{\"outlinewidth\":0,\"ticks\":\"\"},\"colorscale\":[[0.0,\"#0d0887\"],[0.1111111111111111,\"#46039f\"],[0.2222222222222222,\"#7201a8\"],[0.3333333333333333,\"#9c179e\"],[0.4444444444444444,\"#bd3786\"],[0.5555555555555556,\"#d8576b\"],[0.6666666666666666,\"#ed7953\"],[0.7777777777777778,\"#fb9f3a\"],[0.8888888888888888,\"#fdca26\"],[1.0,\"#f0f921\"]]}],\"heatmapgl\":[{\"type\":\"heatmapgl\",\"colorbar\":{\"outlinewidth\":0,\"ticks\":\"\"},\"colorscale\":[[0.0,\"#0d0887\"],[0.1111111111111111,\"#46039f\"],[0.2222222222222222,\"#7201a8\"],[0.3333333333333333,\"#9c179e\"],[0.4444444444444444,\"#bd3786\"],[0.5555555555555556,\"#d8576b\"],[0.6666666666666666,\"#ed7953\"],[0.7777777777777778,\"#fb9f3a\"],[0.8888888888888888,\"#fdca26\"],[1.0,\"#f0f921\"]]}],\"contourcarpet\":[{\"type\":\"contourcarpet\",\"colorbar\":{\"outlinewidth\":0,\"ticks\":\"\"}}],\"contour\":[{\"type\":\"contour\",\"colorbar\":{\"outlinewidth\":0,\"ticks\":\"\"},\"colorscale\":[[0.0,\"#0d0887\"],[0.1111111111111111,\"#46039f\"],[0.2222222222222222,\"#7201a8\"],[0.3333333333333333,\"#9c179e\"],[0.4444444444444444,\"#bd3786\"],[0.5555555555555556,\"#d8576b\"],[0.6666666666666666,\"#ed7953\"],[0.7777777777777778,\"#fb9f3a\"],[0.8888888888888888,\"#fdca26\"],[1.0,\"#f0f921\"]]}],\"surface\":[{\"type\":\"surface\",\"colorbar\":{\"outlinewidth\":0,\"ticks\":\"\"},\"colorscale\":[[0.0,\"#0d0887\"],[0.1111111111111111,\"#46039f\"],[0.2222222222222222,\"#7201a8\"],[0.3333333333333333,\"#9c179e\"],[0.4444444444444444,\"#bd3786\"],[0.5555555555555556,\"#d8576b\"],[0.6666666666666666,\"#ed7953\"],[0.7777777777777778,\"#fb9f3a\"],[0.8888888888888888,\"#fdca26\"],[1.0,\"#f0f921\"]]}],\"mesh3d\":[{\"type\":\"mesh3d\",\"colorbar\":{\"outlinewidth\":0,\"ticks\":\"\"}}],\"scatter\":[{\"fillpattern\":{\"fillmode\":\"overlay\",\"size\":10,\"solidity\":0.2},\"type\":\"scatter\"}],\"parcoords\":[{\"type\":\"parcoords\",\"line\":{\"colorbar\":{\"outlinewidth\":0,\"ticks\":\"\"}}}],\"scatterpolargl\":[{\"type\":\"scatterpolargl\",\"marker\":{\"colorbar\":{\"outlinewidth\":0,\"ticks\":\"\"}}}],\"bar\":[{\"error_x\":{\"color\":\"#2a3f5f\"},\"error_y\":{\"color\":\"#2a3f5f\"},\"marker\":{\"line\":{\"color\":\"#E5ECF6\",\"width\":0.5},\"pattern\":{\"fillmode\":\"overlay\",\"size\":10,\"solidity\":0.2}},\"type\":\"bar\"}],\"scattergeo\":[{\"type\":\"scattergeo\",\"marker\":{\"colorbar\":{\"outlinewidth\":0,\"ticks\":\"\"}}}],\"scatterpolar\":[{\"type\":\"scatterpolar\",\"marker\":{\"colorbar\":{\"outlinewidth\":0,\"ticks\":\"\"}}}],\"histogram\":[{\"marker\":{\"pattern\":{\"fillmode\":\"overlay\",\"size\":10,\"solidity\":0.2}},\"type\":\"histogram\"}],\"scattergl\":[{\"type\":\"scattergl\",\"marker\":{\"colorbar\":{\"outlinewidth\":0,\"ticks\":\"\"}}}],\"scatter3d\":[{\"type\":\"scatter3d\",\"line\":{\"colorbar\":{\"outlinewidth\":0,\"ticks\":\"\"}},\"marker\":{\"colorbar\":{\"outlinewidth\":0,\"ticks\":\"\"}}}],\"scattermapbox\":[{\"type\":\"scattermapbox\",\"marker\":{\"colorbar\":{\"outlinewidth\":0,\"ticks\":\"\"}}}],\"scatterternary\":[{\"type\":\"scatterternary\",\"marker\":{\"colorbar\":{\"outlinewidth\":0,\"ticks\":\"\"}}}],\"scattercarpet\":[{\"type\":\"scattercarpet\",\"marker\":{\"colorbar\":{\"outlinewidth\":0,\"ticks\":\"\"}}}],\"carpet\":[{\"aaxis\":{\"endlinecolor\":\"#2a3f5f\",\"gridcolor\":\"white\",\"linecolor\":\"white\",\"minorgridcolor\":\"white\",\"startlinecolor\":\"#2a3f5f\"},\"baxis\":{\"endlinecolor\":\"#2a3f5f\",\"gridcolor\":\"white\",\"linecolor\":\"white\",\"minorgridcolor\":\"white\",\"startlinecolor\":\"#2a3f5f\"},\"type\":\"carpet\"}],\"table\":[{\"cells\":{\"fill\":{\"color\":\"#EBF0F8\"},\"line\":{\"color\":\"white\"}},\"header\":{\"fill\":{\"color\":\"#C8D4E3\"},\"line\":{\"color\":\"white\"}},\"type\":\"table\"}],\"barpolar\":[{\"marker\":{\"line\":{\"color\":\"#E5ECF6\",\"width\":0.5},\"pattern\":{\"fillmode\":\"overlay\",\"size\":10,\"solidity\":0.2}},\"type\":\"barpolar\"}],\"pie\":[{\"automargin\":true,\"type\":\"pie\"}]},\"layout\":{\"autotypenumbers\":\"strict\",\"colorway\":[\"#636efa\",\"#EF553B\",\"#00cc96\",\"#ab63fa\",\"#FFA15A\",\"#19d3f3\",\"#FF6692\",\"#B6E880\",\"#FF97FF\",\"#FECB52\"],\"font\":{\"color\":\"#2a3f5f\"},\"hovermode\":\"closest\",\"hoverlabel\":{\"align\":\"left\"},\"paper_bgcolor\":\"white\",\"plot_bgcolor\":\"#E5ECF6\",\"polar\":{\"bgcolor\":\"#E5ECF6\",\"angularaxis\":{\"gridcolor\":\"white\",\"linecolor\":\"white\",\"ticks\":\"\"},\"radialaxis\":{\"gridcolor\":\"white\",\"linecolor\":\"white\",\"ticks\":\"\"}},\"ternary\":{\"bgcolor\":\"#E5ECF6\",\"aaxis\":{\"gridcolor\":\"white\",\"linecolor\":\"white\",\"ticks\":\"\"},\"baxis\":{\"gridcolor\":\"white\",\"linecolor\":\"white\",\"ticks\":\"\"},\"caxis\":{\"gridcolor\":\"white\",\"linecolor\":\"white\",\"ticks\":\"\"}},\"coloraxis\":{\"colorbar\":{\"outlinewidth\":0,\"ticks\":\"\"}},\"colorscale\":{\"sequential\":[[0.0,\"#0d0887\"],[0.1111111111111111,\"#46039f\"],[0.2222222222222222,\"#7201a8\"],[0.3333333333333333,\"#9c179e\"],[0.4444444444444444,\"#bd3786\"],[0.5555555555555556,\"#d8576b\"],[0.6666666666666666,\"#ed7953\"],[0.7777777777777778,\"#fb9f3a\"],[0.8888888888888888,\"#fdca26\"],[1.0,\"#f0f921\"]],\"sequentialminus\":[[0.0,\"#0d0887\"],[0.1111111111111111,\"#46039f\"],[0.2222222222222222,\"#7201a8\"],[0.3333333333333333,\"#9c179e\"],[0.4444444444444444,\"#bd3786\"],[0.5555555555555556,\"#d8576b\"],[0.6666666666666666,\"#ed7953\"],[0.7777777777777778,\"#fb9f3a\"],[0.8888888888888888,\"#fdca26\"],[1.0,\"#f0f921\"]],\"diverging\":[[0,\"#8e0152\"],[0.1,\"#c51b7d\"],[0.2,\"#de77ae\"],[0.3,\"#f1b6da\"],[0.4,\"#fde0ef\"],[0.5,\"#f7f7f7\"],[0.6,\"#e6f5d0\"],[0.7,\"#b8e186\"],[0.8,\"#7fbc41\"],[0.9,\"#4d9221\"],[1,\"#276419\"]]},\"xaxis\":{\"gridcolor\":\"white\",\"linecolor\":\"white\",\"ticks\":\"\",\"title\":{\"standoff\":15},\"zerolinecolor\":\"white\",\"automargin\":true,\"zerolinewidth\":2},\"yaxis\":{\"gridcolor\":\"white\",\"linecolor\":\"white\",\"ticks\":\"\",\"title\":{\"standoff\":15},\"zerolinecolor\":\"white\",\"automargin\":true,\"zerolinewidth\":2},\"scene\":{\"xaxis\":{\"backgroundcolor\":\"#E5ECF6\",\"gridcolor\":\"white\",\"linecolor\":\"white\",\"showbackground\":true,\"ticks\":\"\",\"zerolinecolor\":\"white\",\"gridwidth\":2},\"yaxis\":{\"backgroundcolor\":\"#E5ECF6\",\"gridcolor\":\"white\",\"linecolor\":\"white\",\"showbackground\":true,\"ticks\":\"\",\"zerolinecolor\":\"white\",\"gridwidth\":2},\"zaxis\":{\"backgroundcolor\":\"#E5ECF6\",\"gridcolor\":\"white\",\"linecolor\":\"white\",\"showbackground\":true,\"ticks\":\"\",\"zerolinecolor\":\"white\",\"gridwidth\":2}},\"shapedefaults\":{\"line\":{\"color\":\"#2a3f5f\"}},\"annotationdefaults\":{\"arrowcolor\":\"#2a3f5f\",\"arrowhead\":0,\"arrowwidth\":1},\"geo\":{\"bgcolor\":\"white\",\"landcolor\":\"#E5ECF6\",\"subunitcolor\":\"white\",\"showland\":true,\"showlakes\":true,\"lakecolor\":\"white\"},\"title\":{\"x\":0.05},\"mapbox\":{\"style\":\"light\"}}},\"title\":{\"text\":\"Yield to Maturity Curves for Jan 6 - Jan 17\"},\"xaxis\":{\"title\":{\"text\":\"Maturity (Years)\"}},\"yaxis\":{\"title\":{\"text\":\"Yield to Maturity (%)\"}}},                        {\"responsive\": true}                    ).then(function(){\n",
              "                            \n",
              "var gd = document.getElementById('0582e275-7ff7-4fa9-96da-7fd1a7bb6746');\n",
              "var x = new MutationObserver(function (mutations, observer) {{\n",
              "        var display = window.getComputedStyle(gd).display;\n",
              "        if (!display || display === 'none') {{\n",
              "            console.log([gd, 'removed!']);\n",
              "            Plotly.purge(gd);\n",
              "            observer.disconnect();\n",
              "        }}\n",
              "}});\n",
              "\n",
              "// Listen for the removal of the full notebook cells\n",
              "var notebookContainer = gd.closest('#notebook-container');\n",
              "if (notebookContainer) {{\n",
              "    x.observe(notebookContainer, {childList: true});\n",
              "}}\n",
              "\n",
              "// Listen for the clearing of the current output cell\n",
              "var outputEl = gd.closest('.output');\n",
              "if (outputEl) {{\n",
              "    x.observe(outputEl, {childList: true});\n",
              "}}\n",
              "\n",
              "                        })                };                            </script>        </div>\n",
              "</body>\n",
              "</html>"
            ]
          },
          "metadata": {}
        }
      ]
    },
    {
      "cell_type": "code",
      "source": [
        "import numpy as np\n",
        "from scipy.interpolate import CubicSpline\n",
        "import plotly.graph_objects as go\n",
        "\n",
        "# For storing the forward curves for each day (Jan 6 to Jan 17).\n",
        "forward_curves_by_day = {}\n",
        "\n",
        "# For plotting the interpolated spot curves (if desired)\n",
        "spot_spline_curves_by_day = {}\n",
        "\n",
        "# Define target maturities for interpolation.\n",
        "target_maturities = [1, 2, 3, 4, 5]  # years\n",
        "\n",
        "for day, spot_dict in spot_rates_by_day.items():\n",
        "    # Sort the bootstrapped maturities and corresponding spot rates.\n",
        "    boot_maturities = np.array(sorted(spot_dict.keys()))\n",
        "    boot_rates = np.array([spot_dict[t] for t in boot_maturities])\n",
        "\n",
        "    # Interpolate the spot rates at the target maturities.\n",
        "    interp_spot_rates = np.interp(target_maturities, boot_maturities, boot_rates)\n",
        "\n",
        "    # r(1) is the spot rate at T = 1 year.\n",
        "    r1 = interp_spot_rates[0]  # interpolated at time T=1\n",
        "\n",
        "    # compute forward rates f(1,T) for T = 2,3,4,5.\n",
        "    forward_periods = []\n",
        "    forward_rates = []\n",
        "    for i, T in enumerate(target_maturities):\n",
        "        if T > 1:\n",
        "            rT = interp_spot_rates[i]  # spot rate at maturity T\n",
        "            # Compute f(1, T) using the relation:\n",
        "            # (1 + r(T))^T = (1 + r(1)) * (1 + f(1,T))^(T-1)\n",
        "            fwd_rate = (( (1 + rT)**T / (1 + r1) )**(1/(T - 1))) - 1\n",
        "            forward_periods.append(T - 1)  # forward period length is T-1 years\n",
        "            forward_rates.append(fwd_rate)\n",
        "\n",
        "    forward_curves_by_day[day] = (forward_periods, forward_rates)\n",
        "\n",
        "# Now plot all forward curves on the same figure using Plotly.\n",
        "fig = go.Figure()\n",
        "\n",
        "for day, (fwd_periods, fwd_rates) in forward_curves_by_day.items():\n",
        "    fig.add_trace(go.Scatter(\n",
        "        x=fwd_periods,\n",
        "        y=fwd_rates,\n",
        "        mode='lines+markers',\n",
        "        name=day\n",
        "    ))\n",
        "\n",
        "fig.update_layout(\n",
        "    title='1-Year Forward Curves (Using Linear Interpolation of the Spot Curve)',\n",
        "    xaxis_title='Forward Period Length (Years) [e.g., 1 = 1yr-1yr, 2 = 1yr-2yr, 4 = 1yr-4yr]',\n",
        "    yaxis_title='Forward Rate (%)',\n",
        "    legend_title='Date'\n",
        ")\n",
        "\n",
        "fig.show()"
      ],
      "metadata": {
        "colab": {
          "base_uri": "https://localhost:8080/",
          "height": 542
        },
        "id": "n6PRM_zanU_8",
        "outputId": "a9975b00-0700-48fb-f13d-07939d90b77c"
      },
      "execution_count": 64,
      "outputs": [
        {
          "output_type": "display_data",
          "data": {
            "text/html": [
              "<html>\n",
              "<head><meta charset=\"utf-8\" /></head>\n",
              "<body>\n",
              "    <div>            <script src=\"https://cdnjs.cloudflare.com/ajax/libs/mathjax/2.7.5/MathJax.js?config=TeX-AMS-MML_SVG\"></script><script type=\"text/javascript\">if (window.MathJax && window.MathJax.Hub && window.MathJax.Hub.Config) {window.MathJax.Hub.Config({SVG: {font: \"STIX-Web\"}});}</script>                <script type=\"text/javascript\">window.PlotlyConfig = {MathJaxConfig: 'local'};</script>\n",
              "        <script charset=\"utf-8\" src=\"https://cdn.plot.ly/plotly-2.35.2.min.js\"></script>                <div id=\"b9a57cd4-319d-4e64-9745-787efbe693f7\" class=\"plotly-graph-div\" style=\"height:525px; width:100%;\"></div>            <script type=\"text/javascript\">                                    window.PLOTLYENV=window.PLOTLYENV || {};                                    if (document.getElementById(\"b9a57cd4-319d-4e64-9745-787efbe693f7\")) {                    Plotly.newPlot(                        \"b9a57cd4-319d-4e64-9745-787efbe693f7\",                        [{\"mode\":\"lines+markers\",\"name\":\"1\\u002f6\\u002f2025\",\"x\":[1,2,3,4],\"y\":[0.13449534783437245,1.0335675254681558,0.6738895785295189,0.48184539195558096],\"type\":\"scatter\"},{\"mode\":\"lines+markers\",\"name\":\"1\\u002f7\\u002f2025\",\"x\":[1,2,3,4],\"y\":[0.12189779886105456,1.0279788588303354,0.6709023571377608,0.488027959134977],\"type\":\"scatter\"},{\"mode\":\"lines+markers\",\"name\":\"1\\u002f8\\u002f2025\",\"x\":[1,2,3,4],\"y\":[0.1105863879248723,1.0284346917729175,0.6714570118825647,0.48214965283230105],\"type\":\"scatter\"},{\"mode\":\"lines+markers\",\"name\":\"1\\u002f9\\u002f2025\",\"x\":[1,2,3,4],\"y\":[0.09876463697463711,1.0132738134324453,0.6628768007119812,0.4853654164293384],\"type\":\"scatter\"},{\"mode\":\"lines+markers\",\"name\":\"1\\u002f10\\u002f2025\",\"x\":[1,2,3,4],\"y\":[0.0864382769315597,1.0311879076831625,0.6736822142641865,0.4858051282207547],\"type\":\"scatter\"},{\"mode\":\"lines+markers\",\"name\":\"1\\u002f13\\u002f2025\",\"x\":[1,2,3,4],\"y\":[0.053632532902452956,1.0101518630298276,0.6623330860042076,0.4853228013908881],\"type\":\"scatter\"},{\"mode\":\"lines+markers\",\"name\":\"1\\u002f14\\u002f2025\",\"x\":[1,2,3,4],\"y\":[0.052528872768233814,0.9591506386334419,0.632660216792438,0.5186677548324252],\"type\":\"scatter\"},{\"mode\":\"lines+markers\",\"name\":\"1\\u002f15\\u002f2025\",\"x\":[1,2,3,4],\"y\":[0.02892844913791026,1.0136474493361587,0.6649161496416214,0.4656550156688595],\"type\":\"scatter\"},{\"mode\":\"lines+markers\",\"name\":\"1\\u002f16\\u002f2025\",\"x\":[1,2,3,4],\"y\":[0.013658458275245033,0.9929325797819835,0.6531018159889339,0.4554283466080966],\"type\":\"scatter\"},{\"mode\":\"lines+markers\",\"name\":\"1\\u002f17\\u002f2025\",\"x\":[1,2,3,4],\"y\":[0.004299733741853551,0.9568886792270159,0.6321143401568947,0.4718342666171782],\"type\":\"scatter\"}],                        {\"template\":{\"data\":{\"histogram2dcontour\":[{\"type\":\"histogram2dcontour\",\"colorbar\":{\"outlinewidth\":0,\"ticks\":\"\"},\"colorscale\":[[0.0,\"#0d0887\"],[0.1111111111111111,\"#46039f\"],[0.2222222222222222,\"#7201a8\"],[0.3333333333333333,\"#9c179e\"],[0.4444444444444444,\"#bd3786\"],[0.5555555555555556,\"#d8576b\"],[0.6666666666666666,\"#ed7953\"],[0.7777777777777778,\"#fb9f3a\"],[0.8888888888888888,\"#fdca26\"],[1.0,\"#f0f921\"]]}],\"choropleth\":[{\"type\":\"choropleth\",\"colorbar\":{\"outlinewidth\":0,\"ticks\":\"\"}}],\"histogram2d\":[{\"type\":\"histogram2d\",\"colorbar\":{\"outlinewidth\":0,\"ticks\":\"\"},\"colorscale\":[[0.0,\"#0d0887\"],[0.1111111111111111,\"#46039f\"],[0.2222222222222222,\"#7201a8\"],[0.3333333333333333,\"#9c179e\"],[0.4444444444444444,\"#bd3786\"],[0.5555555555555556,\"#d8576b\"],[0.6666666666666666,\"#ed7953\"],[0.7777777777777778,\"#fb9f3a\"],[0.8888888888888888,\"#fdca26\"],[1.0,\"#f0f921\"]]}],\"heatmap\":[{\"type\":\"heatmap\",\"colorbar\":{\"outlinewidth\":0,\"ticks\":\"\"},\"colorscale\":[[0.0,\"#0d0887\"],[0.1111111111111111,\"#46039f\"],[0.2222222222222222,\"#7201a8\"],[0.3333333333333333,\"#9c179e\"],[0.4444444444444444,\"#bd3786\"],[0.5555555555555556,\"#d8576b\"],[0.6666666666666666,\"#ed7953\"],[0.7777777777777778,\"#fb9f3a\"],[0.8888888888888888,\"#fdca26\"],[1.0,\"#f0f921\"]]}],\"heatmapgl\":[{\"type\":\"heatmapgl\",\"colorbar\":{\"outlinewidth\":0,\"ticks\":\"\"},\"colorscale\":[[0.0,\"#0d0887\"],[0.1111111111111111,\"#46039f\"],[0.2222222222222222,\"#7201a8\"],[0.3333333333333333,\"#9c179e\"],[0.4444444444444444,\"#bd3786\"],[0.5555555555555556,\"#d8576b\"],[0.6666666666666666,\"#ed7953\"],[0.7777777777777778,\"#fb9f3a\"],[0.8888888888888888,\"#fdca26\"],[1.0,\"#f0f921\"]]}],\"contourcarpet\":[{\"type\":\"contourcarpet\",\"colorbar\":{\"outlinewidth\":0,\"ticks\":\"\"}}],\"contour\":[{\"type\":\"contour\",\"colorbar\":{\"outlinewidth\":0,\"ticks\":\"\"},\"colorscale\":[[0.0,\"#0d0887\"],[0.1111111111111111,\"#46039f\"],[0.2222222222222222,\"#7201a8\"],[0.3333333333333333,\"#9c179e\"],[0.4444444444444444,\"#bd3786\"],[0.5555555555555556,\"#d8576b\"],[0.6666666666666666,\"#ed7953\"],[0.7777777777777778,\"#fb9f3a\"],[0.8888888888888888,\"#fdca26\"],[1.0,\"#f0f921\"]]}],\"surface\":[{\"type\":\"surface\",\"colorbar\":{\"outlinewidth\":0,\"ticks\":\"\"},\"colorscale\":[[0.0,\"#0d0887\"],[0.1111111111111111,\"#46039f\"],[0.2222222222222222,\"#7201a8\"],[0.3333333333333333,\"#9c179e\"],[0.4444444444444444,\"#bd3786\"],[0.5555555555555556,\"#d8576b\"],[0.6666666666666666,\"#ed7953\"],[0.7777777777777778,\"#fb9f3a\"],[0.8888888888888888,\"#fdca26\"],[1.0,\"#f0f921\"]]}],\"mesh3d\":[{\"type\":\"mesh3d\",\"colorbar\":{\"outlinewidth\":0,\"ticks\":\"\"}}],\"scatter\":[{\"fillpattern\":{\"fillmode\":\"overlay\",\"size\":10,\"solidity\":0.2},\"type\":\"scatter\"}],\"parcoords\":[{\"type\":\"parcoords\",\"line\":{\"colorbar\":{\"outlinewidth\":0,\"ticks\":\"\"}}}],\"scatterpolargl\":[{\"type\":\"scatterpolargl\",\"marker\":{\"colorbar\":{\"outlinewidth\":0,\"ticks\":\"\"}}}],\"bar\":[{\"error_x\":{\"color\":\"#2a3f5f\"},\"error_y\":{\"color\":\"#2a3f5f\"},\"marker\":{\"line\":{\"color\":\"#E5ECF6\",\"width\":0.5},\"pattern\":{\"fillmode\":\"overlay\",\"size\":10,\"solidity\":0.2}},\"type\":\"bar\"}],\"scattergeo\":[{\"type\":\"scattergeo\",\"marker\":{\"colorbar\":{\"outlinewidth\":0,\"ticks\":\"\"}}}],\"scatterpolar\":[{\"type\":\"scatterpolar\",\"marker\":{\"colorbar\":{\"outlinewidth\":0,\"ticks\":\"\"}}}],\"histogram\":[{\"marker\":{\"pattern\":{\"fillmode\":\"overlay\",\"size\":10,\"solidity\":0.2}},\"type\":\"histogram\"}],\"scattergl\":[{\"type\":\"scattergl\",\"marker\":{\"colorbar\":{\"outlinewidth\":0,\"ticks\":\"\"}}}],\"scatter3d\":[{\"type\":\"scatter3d\",\"line\":{\"colorbar\":{\"outlinewidth\":0,\"ticks\":\"\"}},\"marker\":{\"colorbar\":{\"outlinewidth\":0,\"ticks\":\"\"}}}],\"scattermapbox\":[{\"type\":\"scattermapbox\",\"marker\":{\"colorbar\":{\"outlinewidth\":0,\"ticks\":\"\"}}}],\"scatterternary\":[{\"type\":\"scatterternary\",\"marker\":{\"colorbar\":{\"outlinewidth\":0,\"ticks\":\"\"}}}],\"scattercarpet\":[{\"type\":\"scattercarpet\",\"marker\":{\"colorbar\":{\"outlinewidth\":0,\"ticks\":\"\"}}}],\"carpet\":[{\"aaxis\":{\"endlinecolor\":\"#2a3f5f\",\"gridcolor\":\"white\",\"linecolor\":\"white\",\"minorgridcolor\":\"white\",\"startlinecolor\":\"#2a3f5f\"},\"baxis\":{\"endlinecolor\":\"#2a3f5f\",\"gridcolor\":\"white\",\"linecolor\":\"white\",\"minorgridcolor\":\"white\",\"startlinecolor\":\"#2a3f5f\"},\"type\":\"carpet\"}],\"table\":[{\"cells\":{\"fill\":{\"color\":\"#EBF0F8\"},\"line\":{\"color\":\"white\"}},\"header\":{\"fill\":{\"color\":\"#C8D4E3\"},\"line\":{\"color\":\"white\"}},\"type\":\"table\"}],\"barpolar\":[{\"marker\":{\"line\":{\"color\":\"#E5ECF6\",\"width\":0.5},\"pattern\":{\"fillmode\":\"overlay\",\"size\":10,\"solidity\":0.2}},\"type\":\"barpolar\"}],\"pie\":[{\"automargin\":true,\"type\":\"pie\"}]},\"layout\":{\"autotypenumbers\":\"strict\",\"colorway\":[\"#636efa\",\"#EF553B\",\"#00cc96\",\"#ab63fa\",\"#FFA15A\",\"#19d3f3\",\"#FF6692\",\"#B6E880\",\"#FF97FF\",\"#FECB52\"],\"font\":{\"color\":\"#2a3f5f\"},\"hovermode\":\"closest\",\"hoverlabel\":{\"align\":\"left\"},\"paper_bgcolor\":\"white\",\"plot_bgcolor\":\"#E5ECF6\",\"polar\":{\"bgcolor\":\"#E5ECF6\",\"angularaxis\":{\"gridcolor\":\"white\",\"linecolor\":\"white\",\"ticks\":\"\"},\"radialaxis\":{\"gridcolor\":\"white\",\"linecolor\":\"white\",\"ticks\":\"\"}},\"ternary\":{\"bgcolor\":\"#E5ECF6\",\"aaxis\":{\"gridcolor\":\"white\",\"linecolor\":\"white\",\"ticks\":\"\"},\"baxis\":{\"gridcolor\":\"white\",\"linecolor\":\"white\",\"ticks\":\"\"},\"caxis\":{\"gridcolor\":\"white\",\"linecolor\":\"white\",\"ticks\":\"\"}},\"coloraxis\":{\"colorbar\":{\"outlinewidth\":0,\"ticks\":\"\"}},\"colorscale\":{\"sequential\":[[0.0,\"#0d0887\"],[0.1111111111111111,\"#46039f\"],[0.2222222222222222,\"#7201a8\"],[0.3333333333333333,\"#9c179e\"],[0.4444444444444444,\"#bd3786\"],[0.5555555555555556,\"#d8576b\"],[0.6666666666666666,\"#ed7953\"],[0.7777777777777778,\"#fb9f3a\"],[0.8888888888888888,\"#fdca26\"],[1.0,\"#f0f921\"]],\"sequentialminus\":[[0.0,\"#0d0887\"],[0.1111111111111111,\"#46039f\"],[0.2222222222222222,\"#7201a8\"],[0.3333333333333333,\"#9c179e\"],[0.4444444444444444,\"#bd3786\"],[0.5555555555555556,\"#d8576b\"],[0.6666666666666666,\"#ed7953\"],[0.7777777777777778,\"#fb9f3a\"],[0.8888888888888888,\"#fdca26\"],[1.0,\"#f0f921\"]],\"diverging\":[[0,\"#8e0152\"],[0.1,\"#c51b7d\"],[0.2,\"#de77ae\"],[0.3,\"#f1b6da\"],[0.4,\"#fde0ef\"],[0.5,\"#f7f7f7\"],[0.6,\"#e6f5d0\"],[0.7,\"#b8e186\"],[0.8,\"#7fbc41\"],[0.9,\"#4d9221\"],[1,\"#276419\"]]},\"xaxis\":{\"gridcolor\":\"white\",\"linecolor\":\"white\",\"ticks\":\"\",\"title\":{\"standoff\":15},\"zerolinecolor\":\"white\",\"automargin\":true,\"zerolinewidth\":2},\"yaxis\":{\"gridcolor\":\"white\",\"linecolor\":\"white\",\"ticks\":\"\",\"title\":{\"standoff\":15},\"zerolinecolor\":\"white\",\"automargin\":true,\"zerolinewidth\":2},\"scene\":{\"xaxis\":{\"backgroundcolor\":\"#E5ECF6\",\"gridcolor\":\"white\",\"linecolor\":\"white\",\"showbackground\":true,\"ticks\":\"\",\"zerolinecolor\":\"white\",\"gridwidth\":2},\"yaxis\":{\"backgroundcolor\":\"#E5ECF6\",\"gridcolor\":\"white\",\"linecolor\":\"white\",\"showbackground\":true,\"ticks\":\"\",\"zerolinecolor\":\"white\",\"gridwidth\":2},\"zaxis\":{\"backgroundcolor\":\"#E5ECF6\",\"gridcolor\":\"white\",\"linecolor\":\"white\",\"showbackground\":true,\"ticks\":\"\",\"zerolinecolor\":\"white\",\"gridwidth\":2}},\"shapedefaults\":{\"line\":{\"color\":\"#2a3f5f\"}},\"annotationdefaults\":{\"arrowcolor\":\"#2a3f5f\",\"arrowhead\":0,\"arrowwidth\":1},\"geo\":{\"bgcolor\":\"white\",\"landcolor\":\"#E5ECF6\",\"subunitcolor\":\"white\",\"showland\":true,\"showlakes\":true,\"lakecolor\":\"white\"},\"title\":{\"x\":0.05},\"mapbox\":{\"style\":\"light\"}}},\"title\":{\"text\":\"1-Year Forward Curves (Using Linear Interpolation of the Spot Curve)\"},\"xaxis\":{\"title\":{\"text\":\"Forward Period Length (Years) [e.g., 1 = 1yr-1yr, 2 = 1yr-2yr, 4 = 1yr-4yr]\"}},\"yaxis\":{\"title\":{\"text\":\"Forward Rate (%)\"}},\"legend\":{\"title\":{\"text\":\"Date\"}}},                        {\"responsive\": true}                    ).then(function(){\n",
              "                            \n",
              "var gd = document.getElementById('b9a57cd4-319d-4e64-9745-787efbe693f7');\n",
              "var x = new MutationObserver(function (mutations, observer) {{\n",
              "        var display = window.getComputedStyle(gd).display;\n",
              "        if (!display || display === 'none') {{\n",
              "            console.log([gd, 'removed!']);\n",
              "            Plotly.purge(gd);\n",
              "            observer.disconnect();\n",
              "        }}\n",
              "}});\n",
              "\n",
              "// Listen for the removal of the full notebook cells\n",
              "var notebookContainer = gd.closest('#notebook-container');\n",
              "if (notebookContainer) {{\n",
              "    x.observe(notebookContainer, {childList: true});\n",
              "}}\n",
              "\n",
              "// Listen for the clearing of the current output cell\n",
              "var outputEl = gd.closest('.output');\n",
              "if (outputEl) {{\n",
              "    x.observe(outputEl, {childList: true});\n",
              "}}\n",
              "\n",
              "                        })                };                            </script>        </div>\n",
              "</body>\n",
              "</html>"
            ]
          },
          "metadata": {}
        }
      ]
    },
    {
      "cell_type": "code",
      "source": [
        "bond_data_by_day"
      ],
      "metadata": {
        "id": "pcaXjiMFENV-",
        "colab": {
          "base_uri": "https://localhost:8080/"
        },
        "outputId": "2261c4bd-797e-467a-c61d-e3370828cb3d"
      },
      "execution_count": 66,
      "outputs": [
        {
          "output_type": "execute_result",
          "data": {
            "text/plain": [
              "{'1/6/2025': [(100.27515068493152, 3.5, 0.5671232876712329),\n",
              "  (101.5994794520548, 4.5, 1.0712328767123287),\n",
              "  (101.55731506849315, 4.0, 1.5726027397260274),\n",
              "  (100.11, 3.0, 2.0712328767123287),\n",
              "  (101.03202054794521, 3.25, 2.6301369863013697),\n",
              "  (101.81217808219178, 3.5, 3.150273224043716),\n",
              "  (101.11130821917807, 3.25, 3.6530054644808745),\n",
              "  (104.08391780821917, 4.0, 4.147945205479452),\n",
              "  (102.23217808219178, 3.5, 4.652054794520548),\n",
              "  (98.81, 2.75, 5.147945205479452)],\n",
              " '1/7/2025': [(100.26524657534246, 3.5, 0.5643835616438356),\n",
              "  (101.59960273972602, 4.5, 1.0684931506849316),\n",
              "  (101.58742465753424, 4.0, 1.56986301369863),\n",
              "  (100.14, 3.0, 2.0684931506849313),\n",
              "  (101.05210958904111, 3.25, 2.6273972602739724),\n",
              "  (101.83227397260274, 3.5, 3.1475409836065573),\n",
              "  (101.15139726027397, 3.25, 3.650273224043716),\n",
              "  (104.02402739726028, 4.0, 4.145205479452055),\n",
              "  (102.15227397260274, 3.5, 4.64931506849315),\n",
              "  (98.6, 2.75, 5.145205479452055)],\n",
              " '1/8/2025': [(100.25534246575342, 3.5, 0.5616438356164384),\n",
              "  (101.57972602739726, 4.5, 1.0657534246575342),\n",
              "  (101.54753424657534, 4.0, 1.5671232876712329),\n",
              "  (100.08, 3.0, 2.0657534246575344),\n",
              "  (100.95219863013699, 3.25, 2.6246575342465754),\n",
              "  (101.7123698630137, 3.5, 3.1448087431693987),\n",
              "  (101.00148630136985, 3.25, 3.6475409836065573),\n",
              "  (103.91413698630137, 4.0, 4.142465753424657),\n",
              "  (102.05236986301371, 3.5, 4.646575342465754),\n",
              "  (98.53, 2.75, 5.142465753424657)],\n",
              " '1/9/2025': [(100.26543835616438, 3.5, 0.5589041095890411),\n",
              "  (101.5998493150685, 4.5, 1.063013698630137),\n",
              "  (101.56764383561644, 4.0, 1.5643835616438357),\n",
              "  (100.1, 3.0, 2.063013698630137),\n",
              "  (101.03228767123288, 3.25, 2.621917808219178),\n",
              "  (101.73246575342466, 3.5, 3.1420765027322406),\n",
              "  (100.95157534246574, 3.25, 3.644808743169399),\n",
              "  (103.88424657534247, 4.0, 4.13972602739726),\n",
              "  (101.99246575342467, 3.5, 4.6438356164383565),\n",
              "  (98.54, 2.75, 5.13972602739726)],\n",
              " '1/10/2025': [(100.20553424657534, 3.5, 0.5561643835616439),\n",
              "  (101.47997260273972, 4.5, 1.0602739726027397),\n",
              "  (101.47775342465752, 4.0, 1.5616438356164384),\n",
              "  (99.96, 3.0, 2.0602739726027397),\n",
              "  (100.73237671232877, 3.25, 2.6191780821917807),\n",
              "  (101.5325616438356, 3.5, 3.139344262295082),\n",
              "  (100.80166438356164, 3.25, 3.6420765027322406),\n",
              "  (103.54435616438356, 4.0, 4.136986301369863),\n",
              "  (101.60256164383561, 3.5, 4.641095890410959),\n",
              "  (97.96, 2.75, 5.136986301369863)],\n",
              " '1/13/2025': [(100.16582191780823, 3.5, 0.547945205479452),\n",
              "  (101.37034246575342, 4.5, 1.0520547945205478),\n",
              "  (101.21808219178082, 4.0, 1.5534246575342465),\n",
              "  (99.67, 3.0, 2.052054794520548),\n",
              "  (100.47264383561644, 3.25, 2.610958904109589),\n",
              "  (101.03284931506849, 3.5, 3.1311475409836067),\n",
              "  (100.2019315068493, 3.25, 3.633879781420765),\n",
              "  (103.00468493150684, 4.0, 4.1287671232876715),\n",
              "  (103.0228493150685, 3.5, 4.632876712328767),\n",
              "  (97.55, 2.75, 5.1287671232876715)],\n",
              " '1/14/2025': [(100.16591780821918, 3.5, 0.5452054794520548),\n",
              "  (101.37046575342465, 4.5, 1.0493150684931507),\n",
              "  (101.21819178082193, 4.0, 1.5506849315068494),\n",
              "  (99.19, 3.0, 2.0493150684931507),\n",
              "  (100.47273287671233, 3.25, 2.6082191780821917),\n",
              "  (101.03294520547945, 3.5, 3.128415300546448),\n",
              "  (100.20202054794521, 3.25, 3.6311475409836067),\n",
              "  (103.00479452054795, 4.0, 4.126027397260274),\n",
              "  (103.02294520547946, 3.5, 4.63013698630137),\n",
              "  (97.29, 2.75, 5.126027397260274)],\n",
              " '1/15/2025': [(100.22601369863013, 3.5, 0.5424657534246575),\n",
              "  (101.48058904109588, 4.5, 1.0465753424657533),\n",
              "  (101.398301369863, 4.0, 1.547945205479452),\n",
              "  (99.89, 3.0, 2.0465753424657533),\n",
              "  (100.56282191780822, 3.25, 2.6054794520547944),\n",
              "  (101.37304109589041, 3.5, 3.1256830601092895),\n",
              "  (100.63210958904111, 3.25, 3.628415300546448),\n",
              "  (103.44490410958905, 4.0, 4.123287671232877),\n",
              "  (103.02304109589042, 3.5, 4.627397260273972),\n",
              "  (97.84, 2.75, 5.123287671232877)],\n",
              " '1/16/2025': [(100.2661095890411, 3.5, 0.5397260273972603),\n",
              "  (101.48071232876711, 4.5, 1.0438356164383562),\n",
              "  (101.39841095890411, 4.0, 1.5452054794520547),\n",
              "  (100.03, 3.0, 2.043835616438356),\n",
              "  (100.74291095890412, 3.25, 2.602739726027397),\n",
              "  (101.59313698630137, 3.5, 3.122950819672131),\n",
              "  (100.932198630137, 3.25, 3.6256830601092895),\n",
              "  (103.81501369863014, 4.0, 4.120547945205479),\n",
              "  (103.02313698630138, 3.5, 4.624657534246575),\n",
              "  (98.29, 2.75, 5.120547945205479)],\n",
              " '1/17/2025': [(100.27620547945206, 3.5, 0.536986301369863),\n",
              "  (101.56083561643837, 4.5, 1.0410958904109588),\n",
              "  (101.4885205479452, 4.0, 1.5424657534246575),\n",
              "  (100.07, 3.0, 2.041095890410959),\n",
              "  (101.013, 3.25, 2.6),\n",
              "  (101.66323287671233, 3.5, 3.120218579234973),\n",
              "  (101.03228767123288, 3.25, 3.6229508196721314),\n",
              "  (103.91512328767124, 4.0, 4.117808219178082),\n",
              "  (103.02323287671233, 3.5, 4.6219178082191785),\n",
              "  (98.4, 2.75, 5.117808219178082)]}"
            ]
          },
          "metadata": {},
          "execution_count": 66
        }
      ]
    },
    {
      "cell_type": "code",
      "source": [
        "# yield_curves_by_day\n",
        "# forward_curves_by_day"
      ],
      "metadata": {
        "id": "hmVApFtcSHKt"
      },
      "execution_count": 71,
      "outputs": []
    },
    {
      "cell_type": "code",
      "source": [
        "yield_curves_by_day.keys()"
      ],
      "metadata": {
        "colab": {
          "base_uri": "https://localhost:8080/"
        },
        "id": "Y2uIHlg3UMj8",
        "outputId": "587c3dac-ce64-4ab3-bee7-771742026c4f"
      },
      "execution_count": 72,
      "outputs": [
        {
          "output_type": "execute_result",
          "data": {
            "text/plain": [
              "dict_keys(['1/6/2025', '1/7/2025', '1/8/2025', '1/9/2025', '1/10/2025', '1/13/2025', '1/14/2025', '1/15/2025', '1/16/2025', '1/17/2025'])"
            ]
          },
          "metadata": {},
          "execution_count": 72
        }
      ]
    },
    {
      "cell_type": "code",
      "source": [
        "\n",
        "# ------------------------------\n",
        "# Yields\n",
        "\n",
        "sorted_days = sorted(yield_curves_by_day.keys())\n",
        "\n",
        "# Create a 2D array: rows = days, columns = maturities (i.e., each column is a time series for one yield).\n",
        "yield_list = []\n",
        "for day in sorted_days:\n",
        "    maturities, yields_ = yield_curves_by_day[day]\n",
        "    yield_list.append(yields_)\n",
        "yield_array = np.array(yield_list)[:,:5] # shape: (num_days, 5).\n",
        "# Take only first 5 maturities\n",
        "\n",
        "# Compute daily log-returns for each yield (for j = 0,...,num_days-2)\n",
        "# The resulting array will have shape (num_days - 1, 5)\n",
        "yield_log_returns = np.log(yield_array[1:,:] / yield_array[:-1,:])\n",
        "\n",
        "# compute the covariance matrix across the 5 yield series.\n",
        "# np.cov expects rows = variables, pass the transpose.\n",
        "cov_yields = np.cov(yield_log_returns.T)\n",
        "\n",
        "print(\"Covariance matrix for yield log-returns:\")\n",
        "print(cov_yields)\n",
        "\n",
        "# ------------------------------\n",
        "# Forward Rates\n",
        "\n",
        "# Do a similar process for the forward rates.\n",
        "sorted_days_forward = sorted(forward_curves_by_day.keys())\n",
        "\n",
        "forward_list = []\n",
        "for day in sorted_days_forward:\n",
        "    periods, fwd_rates = forward_curves_by_day[day]\n",
        "    forward_list.append(fwd_rates)\n",
        "forward_array = np.array(forward_list)  # shape: (num_days, 4)\n",
        "\n",
        "# Compute log-returns for forward rates.\n",
        "forward_log_returns = np.log(forward_array[1:,:] / forward_array[:-1,:])\n",
        "\n",
        "# Covariance matrix (4 x 4) for the forward rate log-returns.\n",
        "cov_forwards = np.cov(forward_log_returns.T)\n",
        "\n",
        "print(\"\\nCovariance matrix for forward rate log-returns:\")\n",
        "print(cov_forwards)"
      ],
      "metadata": {
        "colab": {
          "base_uri": "https://localhost:8080/"
        },
        "id": "BgLeuwt0UIP1",
        "outputId": "5563d81a-379d-458e-d316-35e0bd87836c"
      },
      "execution_count": 84,
      "outputs": [
        {
          "output_type": "stream",
          "name": "stdout",
          "text": [
            "Covariance matrix for yield log-returns:\n",
            "[[5.29628845e-04 1.44262402e-04 5.87804947e-05 3.24314329e-05\n",
            "  1.14180354e-05]\n",
            " [1.44262402e-04 3.95568163e-05 1.65279595e-05 9.88922335e-06\n",
            "  3.70882368e-06]\n",
            " [5.87804947e-05 1.65279595e-05 7.63709016e-06 5.84560287e-06\n",
            "  2.49682253e-06]\n",
            " [3.24314329e-05 9.88922335e-06 5.84560287e-06 1.17779871e-05\n",
            "  2.77175139e-06]\n",
            " [1.14180354e-05 3.70882368e-06 2.49682253e-06 2.77175139e-06\n",
            "  2.47438121e-06]]\n",
            "\n",
            "Covariance matrix for forward rate log-returns:\n",
            "[[ 1.79590231e+00  3.80012077e-02  3.16237859e-02  1.38309281e-02]\n",
            " [ 3.80012077e-02  1.76429765e-03  1.52097740e-03 -1.09837515e-03]\n",
            " [ 3.16237859e-02  1.52097740e-03  1.31285650e-03 -9.94788917e-04]\n",
            " [ 1.38309281e-02 -1.09837515e-03 -9.94788917e-04  2.32264560e-03]]\n"
          ]
        }
      ]
    },
    {
      "cell_type": "code",
      "source": [
        "# Compute eigenvalues and eigenvectors for yields.\n",
        "eigvals_y, eigvecs_y = np.linalg.eig(cov_yields)\n",
        "print(\"Eigenvalues for yield covariance matrix:\\n\", eigvals_y)\n",
        "print(\"Eigenvectors for yield covariance matrix:\\n\", eigvecs_y)\n",
        "\n",
        "# Compute eigenvalues and eigenvectors for forward rates.\n",
        "eigvals_f, eigvecs_f = np.linalg.eig(cov_forwards)\n",
        "print(\"Eigenvalues for forward rate covariance matrix:\\n\", eigvals_f)\n",
        "print(\"Eigenvectors for forward rate covariance matrix:\\n\", eigvecs_f)"
      ],
      "metadata": {
        "colab": {
          "base_uri": "https://localhost:8080/"
        },
        "id": "XyC4DjucVzaM",
        "outputId": "c671353d-b014-478b-bcb7-2c2d4fe85e9b"
      },
      "execution_count": 86,
      "outputs": [
        {
          "output_type": "stream",
          "name": "stdout",
          "text": [
            "Eigenvalues for yield covariance matrix:\n",
            " [5.77853130e-04 1.09472168e-05 2.00451229e-06 1.69140992e-08\n",
            " 2.53346642e-07]\n",
            "Eigenvectors for yield covariance matrix:\n",
            " [[ 0.95721757 -0.11390744 -0.08080797 -0.19965432  0.15610205]\n",
            " [ 0.26107773  0.08545956  0.16054652  0.89616773 -0.3092625 ]\n",
            " [ 0.10695706  0.23418484  0.35975934 -0.39567924 -0.80481601]\n",
            " [ 0.06061109  0.92696395 -0.34947276 -0.00127833  0.12219364]\n",
            " [ 0.02143438  0.25615827  0.84624872 -0.02139762  0.46618533]]\n",
            "Eigenvalues for forward rate covariance matrix:\n",
            " [1.79737043e+00 3.84457742e-03 8.69688114e-05 1.31763708e-07]\n",
            "Eigenvectors for forward rate covariance matrix:\n",
            " [[-9.99591329e-01 -1.23348639e-02 -2.57865119e-02  2.84641318e-04]\n",
            " [-2.11650165e-02  4.91843502e-01  5.77987938e-01 -6.50824058e-01]\n",
            " [-1.76138087e-02  4.37223600e-01  4.82018618e-01  7.59067407e-01]\n",
            " [-7.67918649e-03 -7.52843506e-01  6.57968883e-01  1.56408202e-02]]\n"
          ]
        }
      ]
    }
  ]
}